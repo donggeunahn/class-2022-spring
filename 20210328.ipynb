{
  "nbformat": 4,
  "nbformat_minor": 0,
  "metadata": {
    "colab": {
      "name": "requests_gradio.ipynb",
      "provenance": [],
      "include_colab_link": true
    },
    "kernelspec": {
      "name": "python3",
      "display_name": "Python 3"
    },
    "language_info": {
      "name": "python"
    }
  },
  "cells": [
    {
      "cell_type": "markdown",
      "metadata": {
        "id": "view-in-github",
        "colab_type": "text"
      },
      "source": [
        "<a href=\"https://colab.research.google.com/github/donggeunahn/class-2022-spring/blob/main/20210328.ipynb\" target=\"_parent\"><img src=\"https://colab.research.google.com/assets/colab-badge.svg\" alt=\"Open In Colab\"/></a>"
      ]
    },
    {
      "cell_type": "code",
      "source": [
        "!pip install gradio\n",
        "import gradio as gr\n",
        "import requests\n",
        "import pandas as pd"
      ],
      "metadata": {
        "id": "8eZHGJhmqd9a",
        "outputId": "284a73b2-7870-499d-e4d1-8c8921a9ad12",
        "colab": {
          "base_uri": "https://localhost:8080/"
        }
      },
      "execution_count": 2,
      "outputs": [
        {
          "output_type": "stream",
          "name": "stdout",
          "text": [
            "Collecting gradio\n",
            "  Downloading gradio-2.9.1-py3-none-any.whl (1.7 MB)\n",
            "\u001b[K     |████████████████████████████████| 1.7 MB 10.0 MB/s \n",
            "\u001b[?25hCollecting markdown-it-py[linkify,plugins]\n",
            "  Downloading markdown_it_py-2.0.1-py3-none-any.whl (84 kB)\n",
            "\u001b[K     |████████████████████████████████| 84 kB 1.5 MB/s \n",
            "\u001b[?25hCollecting uvicorn\n",
            "  Downloading uvicorn-0.17.6-py3-none-any.whl (53 kB)\n",
            "\u001b[K     |████████████████████████████████| 53 kB 2.3 MB/s \n",
            "\u001b[?25hCollecting orjson\n",
            "  Downloading orjson-3.6.7-cp37-cp37m-manylinux_2_24_x86_64.whl (255 kB)\n",
            "\u001b[K     |████████████████████████████████| 255 kB 40.7 MB/s \n",
            "\u001b[?25hCollecting pydub\n",
            "  Downloading pydub-0.25.1-py2.py3-none-any.whl (32 kB)\n",
            "Requirement already satisfied: requests in /usr/local/lib/python3.7/dist-packages (from gradio) (2.23.0)\n",
            "Collecting fastapi\n",
            "  Downloading fastapi-0.75.1-py3-none-any.whl (54 kB)\n",
            "\u001b[K     |████████████████████████████████| 54 kB 2.3 MB/s \n",
            "\u001b[?25hRequirement already satisfied: pillow in /usr/local/lib/python3.7/dist-packages (from gradio) (7.1.2)\n",
            "Requirement already satisfied: matplotlib in /usr/local/lib/python3.7/dist-packages (from gradio) (3.2.2)\n",
            "Collecting python-multipart\n",
            "  Downloading python-multipart-0.0.5.tar.gz (32 kB)\n",
            "Collecting analytics-python\n",
            "  Downloading analytics_python-1.4.0-py2.py3-none-any.whl (15 kB)\n",
            "Requirement already satisfied: numpy in /usr/local/lib/python3.7/dist-packages (from gradio) (1.21.5)\n",
            "Collecting pycryptodome\n",
            "  Downloading pycryptodome-3.14.1-cp35-abi3-manylinux2010_x86_64.whl (2.0 MB)\n",
            "\u001b[K     |████████████████████████████████| 2.0 MB 3.2 MB/s \n",
            "\u001b[?25hCollecting paramiko\n",
            "  Downloading paramiko-2.10.3-py2.py3-none-any.whl (211 kB)\n",
            "\u001b[K     |████████████████████████████████| 211 kB 65.9 MB/s \n",
            "\u001b[?25hRequirement already satisfied: pandas in /usr/local/lib/python3.7/dist-packages (from gradio) (1.3.5)\n",
            "Collecting aiohttp\n",
            "  Downloading aiohttp-3.8.1-cp37-cp37m-manylinux_2_5_x86_64.manylinux1_x86_64.manylinux_2_12_x86_64.manylinux2010_x86_64.whl (1.1 MB)\n",
            "\u001b[K     |████████████████████████████████| 1.1 MB 33.6 MB/s \n",
            "\u001b[?25hCollecting ffmpy\n",
            "  Downloading ffmpy-0.3.0.tar.gz (4.8 kB)\n",
            "Collecting multidict<7.0,>=4.5\n",
            "  Downloading multidict-6.0.2-cp37-cp37m-manylinux_2_17_x86_64.manylinux2014_x86_64.whl (94 kB)\n",
            "\u001b[K     |████████████████████████████████| 94 kB 807 kB/s \n",
            "\u001b[?25hCollecting frozenlist>=1.1.1\n",
            "  Downloading frozenlist-1.3.0-cp37-cp37m-manylinux_2_5_x86_64.manylinux1_x86_64.manylinux_2_17_x86_64.manylinux2014_x86_64.whl (144 kB)\n",
            "\u001b[K     |████████████████████████████████| 144 kB 1.1 MB/s \n",
            "\u001b[?25hCollecting aiosignal>=1.1.2\n",
            "  Downloading aiosignal-1.2.0-py3-none-any.whl (8.2 kB)\n",
            "Collecting async-timeout<5.0,>=4.0.0a3\n",
            "  Downloading async_timeout-4.0.2-py3-none-any.whl (5.8 kB)\n",
            "Collecting yarl<2.0,>=1.0\n",
            "  Downloading yarl-1.7.2-cp37-cp37m-manylinux_2_5_x86_64.manylinux1_x86_64.manylinux_2_12_x86_64.manylinux2010_x86_64.whl (271 kB)\n",
            "\u001b[K     |████████████████████████████████| 271 kB 45.0 MB/s \n",
            "\u001b[?25hCollecting asynctest==0.13.0\n",
            "  Downloading asynctest-0.13.0-py3-none-any.whl (26 kB)\n",
            "Requirement already satisfied: charset-normalizer<3.0,>=2.0 in /usr/local/lib/python3.7/dist-packages (from aiohttp->gradio) (2.0.12)\n",
            "Requirement already satisfied: typing-extensions>=3.7.4 in /usr/local/lib/python3.7/dist-packages (from aiohttp->gradio) (3.10.0.2)\n",
            "Requirement already satisfied: attrs>=17.3.0 in /usr/local/lib/python3.7/dist-packages (from aiohttp->gradio) (21.4.0)\n",
            "Requirement already satisfied: idna>=2.0 in /usr/local/lib/python3.7/dist-packages (from yarl<2.0,>=1.0->aiohttp->gradio) (2.10)\n",
            "Requirement already satisfied: six>=1.5 in /usr/local/lib/python3.7/dist-packages (from analytics-python->gradio) (1.15.0)\n",
            "Collecting monotonic>=1.5\n",
            "  Downloading monotonic-1.6-py2.py3-none-any.whl (8.2 kB)\n",
            "Requirement already satisfied: python-dateutil>2.1 in /usr/local/lib/python3.7/dist-packages (from analytics-python->gradio) (2.8.2)\n",
            "Collecting backoff==1.10.0\n",
            "  Downloading backoff-1.10.0-py2.py3-none-any.whl (31 kB)\n",
            "Requirement already satisfied: certifi>=2017.4.17 in /usr/local/lib/python3.7/dist-packages (from requests->gradio) (2021.10.8)\n",
            "Requirement already satisfied: urllib3!=1.25.0,!=1.25.1,<1.26,>=1.21.1 in /usr/local/lib/python3.7/dist-packages (from requests->gradio) (1.24.3)\n",
            "Requirement already satisfied: chardet<4,>=3.0.2 in /usr/local/lib/python3.7/dist-packages (from requests->gradio) (3.0.4)\n",
            "Collecting starlette==0.17.1\n",
            "  Downloading starlette-0.17.1-py3-none-any.whl (58 kB)\n",
            "\u001b[K     |████████████████████████████████| 58 kB 6.5 MB/s \n",
            "\u001b[?25hCollecting pydantic!=1.7,!=1.7.1,!=1.7.2,!=1.7.3,!=1.8,!=1.8.1,<2.0.0,>=1.6.2\n",
            "  Downloading pydantic-1.9.0-cp37-cp37m-manylinux_2_17_x86_64.manylinux2014_x86_64.whl (10.9 MB)\n",
            "\u001b[K     |████████████████████████████████| 10.9 MB 57.2 MB/s \n",
            "\u001b[?25hCollecting anyio<4,>=3.0.0\n",
            "  Downloading anyio-3.5.0-py3-none-any.whl (79 kB)\n",
            "\u001b[K     |████████████████████████████████| 79 kB 9.8 MB/s \n",
            "\u001b[?25hCollecting sniffio>=1.1\n",
            "  Downloading sniffio-1.2.0-py3-none-any.whl (10 kB)\n",
            "Collecting mdurl~=0.1\n",
            "  Downloading mdurl-0.1.0-py3-none-any.whl (11 kB)\n",
            "Collecting linkify-it-py~=1.0\n",
            "  Downloading linkify_it_py-1.0.3-py3-none-any.whl (19 kB)\n",
            "Collecting mdit-py-plugins\n",
            "  Downloading mdit_py_plugins-0.3.0-py3-none-any.whl (43 kB)\n",
            "\u001b[K     |████████████████████████████████| 43 kB 2.7 MB/s \n",
            "\u001b[?25hCollecting uc-micro-py\n",
            "  Downloading uc_micro_py-1.0.1-py3-none-any.whl (6.2 kB)\n",
            "Requirement already satisfied: pyparsing!=2.0.4,!=2.1.2,!=2.1.6,>=2.0.1 in /usr/local/lib/python3.7/dist-packages (from matplotlib->gradio) (3.0.7)\n",
            "Requirement already satisfied: kiwisolver>=1.0.1 in /usr/local/lib/python3.7/dist-packages (from matplotlib->gradio) (1.4.0)\n",
            "Requirement already satisfied: cycler>=0.10 in /usr/local/lib/python3.7/dist-packages (from matplotlib->gradio) (0.11.0)\n",
            "Requirement already satisfied: pytz>=2017.3 in /usr/local/lib/python3.7/dist-packages (from pandas->gradio) (2018.9)\n",
            "Collecting cryptography>=2.5\n",
            "  Downloading cryptography-36.0.2-cp36-abi3-manylinux_2_24_x86_64.whl (3.6 MB)\n",
            "\u001b[K     |████████████████████████████████| 3.6 MB 42.9 MB/s \n",
            "\u001b[?25hCollecting bcrypt>=3.1.3\n",
            "  Downloading bcrypt-3.2.0-cp36-abi3-manylinux_2_17_x86_64.manylinux2014_x86_64.manylinux_2_24_x86_64.whl (61 kB)\n",
            "\u001b[K     |████████████████████████████████| 61 kB 523 kB/s \n",
            "\u001b[?25hCollecting pynacl>=1.0.1\n",
            "  Downloading PyNaCl-1.5.0-cp36-abi3-manylinux_2_17_x86_64.manylinux2014_x86_64.manylinux_2_24_x86_64.whl (856 kB)\n",
            "\u001b[K     |████████████████████████████████| 856 kB 44.7 MB/s \n",
            "\u001b[?25hRequirement already satisfied: cffi>=1.1 in /usr/local/lib/python3.7/dist-packages (from bcrypt>=3.1.3->paramiko->gradio) (1.15.0)\n",
            "Requirement already satisfied: pycparser in /usr/local/lib/python3.7/dist-packages (from cffi>=1.1->bcrypt>=3.1.3->paramiko->gradio) (2.21)\n",
            "Collecting h11>=0.8\n",
            "  Downloading h11-0.13.0-py3-none-any.whl (58 kB)\n",
            "\u001b[K     |████████████████████████████████| 58 kB 7.5 MB/s \n",
            "\u001b[?25hRequirement already satisfied: click>=7.0 in /usr/local/lib/python3.7/dist-packages (from uvicorn->gradio) (7.1.2)\n",
            "Collecting asgiref>=3.4.0\n",
            "  Downloading asgiref-3.5.0-py3-none-any.whl (22 kB)\n",
            "Building wheels for collected packages: ffmpy, python-multipart\n",
            "  Building wheel for ffmpy (setup.py) ... \u001b[?25l\u001b[?25hdone\n",
            "  Created wheel for ffmpy: filename=ffmpy-0.3.0-py3-none-any.whl size=4712 sha256=0fc126ec441c8a56089d042eeca1fbe894acf540ab14f54c34e4e65dfc4b9f28\n",
            "  Stored in directory: /root/.cache/pip/wheels/13/e4/6c/e8059816e86796a597c6e6b0d4c880630f51a1fcfa0befd5e6\n",
            "  Building wheel for python-multipart (setup.py) ... \u001b[?25l\u001b[?25hdone\n",
            "  Created wheel for python-multipart: filename=python_multipart-0.0.5-py3-none-any.whl size=31678 sha256=fcb38d0b0add905c8af4ecccf5e5d475c53a0568ba61983d35f70de68ddcc000\n",
            "  Stored in directory: /root/.cache/pip/wheels/2c/41/7c/bfd1c180534ffdcc0972f78c5758f89881602175d48a8bcd2c\n",
            "Successfully built ffmpy python-multipart\n",
            "Installing collected packages: sniffio, mdurl, uc-micro-py, multidict, markdown-it-py, frozenlist, anyio, yarl, starlette, pynacl, pydantic, monotonic, mdit-py-plugins, linkify-it-py, h11, cryptography, bcrypt, backoff, asynctest, async-timeout, asgiref, aiosignal, uvicorn, python-multipart, pydub, pycryptodome, paramiko, orjson, ffmpy, fastapi, analytics-python, aiohttp, gradio\n",
            "Successfully installed aiohttp-3.8.1 aiosignal-1.2.0 analytics-python-1.4.0 anyio-3.5.0 asgiref-3.5.0 async-timeout-4.0.2 asynctest-0.13.0 backoff-1.10.0 bcrypt-3.2.0 cryptography-36.0.2 fastapi-0.75.1 ffmpy-0.3.0 frozenlist-1.3.0 gradio-2.9.1 h11-0.13.0 linkify-it-py-1.0.3 markdown-it-py-2.0.1 mdit-py-plugins-0.3.0 mdurl-0.1.0 monotonic-1.6 multidict-6.0.2 orjson-3.6.7 paramiko-2.10.3 pycryptodome-3.14.1 pydantic-1.9.0 pydub-0.25.1 pynacl-1.5.0 python-multipart-0.0.5 sniffio-1.2.0 starlette-0.17.1 uc-micro-py-1.0.1 uvicorn-0.17.6 yarl-1.7.2\n"
          ]
        }
      ]
    },
    {
      "cell_type": "code",
      "source": [
        "URL = ('http://apis.data.go.kr/B552061/lgStat/getRestLgStat?ServiceKey=nx3IshCSM91IvFfqKKs9dkSTux4l6vcJsUCrUuaGdCbSaIYsGgiBMhQ1ighTZL0WmoErNEqsVzgMU2UQEJGhpw%3D%3D&searchYearCd=2019&siDo=1100&guGun=1116&numOfRows=13&pageNo=1&type=json')\n",
        "response = requests.get(URL)\n",
        "\n"
      ],
      "metadata": {
        "id": "lHHEwqpyJF7r"
      },
      "execution_count": 30,
      "outputs": []
    },
    {
      "cell_type": "code",
      "source": [
        " "
      ],
      "metadata": {
        "id": "wCdvG80giDlj"
      },
      "execution_count": null,
      "outputs": []
    },
    {
      "cell_type": "code",
      "source": [
        "response"
      ],
      "metadata": {
        "id": "7S8dOWks14cj",
        "outputId": "88ca2ce8-d098-410e-ba98-8e5a2078cdcc",
        "colab": {
          "base_uri": "https://localhost:8080/"
        }
      },
      "execution_count": 26,
      "outputs": [
        {
          "output_type": "execute_result",
          "data": {
            "text/plain": [
              "<Response [200]>"
            ]
          },
          "metadata": {},
          "execution_count": 26
        }
      ]
    },
    {
      "cell_type": "code",
      "source": [
        "response.text"
      ],
      "metadata": {
        "id": "JjNGjFg2jT8T",
        "outputId": "7e98dc66-ca0e-4ddc-f89f-3f693bccd548",
        "colab": {
          "base_uri": "https://localhost:8080/",
          "height": 157
        }
      },
      "execution_count": 27,
      "outputs": [
        {
          "output_type": "execute_result",
          "data": {
            "text/plain": [
              "'<response>\\r\\n    <header>\\r\\n        <resultCode>00</resultCode>\\r\\n        <resultMsg>NORMAL_CODE</resultMsg>\\r\\n    </header>\\r\\n    <body>\\r\\n        <items>\\r\\n            <item>\\r\\n                <std_year>2019</std_year>\\r\\n                <acc_cl_nm>전체사고</acc_cl_nm>\\r\\n                <sido_sgg_nm>서울특별시 강남구</sido_sgg_nm>\\r\\n                <acc_cnt>3722</acc_cnt>\\r\\n                <acc_cnt_cmrt>1.62</acc_cnt_cmrt>\\r\\n                <dth_dnv_cnt>14</dth_dnv_cnt>\\r\\n                <dth_dnv_cnt_cmrt>0.42</dth_dnv_cnt_cmrt>\\r\\n                <ftlt_rate>0.38</ftlt_rate>\\r\\n                <injpsn_cnt>5182</injpsn_cnt>\\r\\n                <injpsn_cnt_cmrt>1.52</injpsn_cnt_cmrt>\\r\\n                <tot_acc_cnt>229600</tot_acc_cnt>\\r\\n                <tot_dth_dnv_cnt>3349</tot_dth_dnv_cnt>\\r\\n                <tot_injpsn_cnt>341712</tot_injpsn_cnt>\\r\\n                <pop_100k>675.81</pop_100k>\\r\\n                <car_10k>147.41</car_10k>\\r\\n                <cnt_027_01>13</cnt_027_01>\\r\\n                <cnt_027_02>76</cnt_027_02>\\r\\n                <cnt_027_03>330</cnt_027_03>\\r\\n                <cnt_027_04>515</cnt_027_04>\\r\\n                <cnt_027_05>2150</cnt_027_05>\\r\\n                <cnt_027_06>154</cnt_027_06>\\r\\n                <cnt_027_07>125</cnt_027_07>\\r\\n                <cnt_027_99>359</cnt_027_99>\\r\\n                <cnt_014_01>825</cnt_014_01>\\r\\n                <cnt_014_02>2832</cnt_014_02>\\r\\n                <cnt_014_03>65</cnt_014_03>\\r\\n                <cnt_014_04>0</cnt_014_04>\\r\\n            </item>\\r\\n            <item>\\r\\n                <std_year>2019</std_year>\\r\\n                <acc_cl_nm>어린이사고</acc_cl_nm>\\r\\n                <sido_sgg_nm>서울특별시 강남구</sido_sgg_nm>\\r\\n                <acc_cnt>107</acc_cnt>\\r\\n                <acc_cnt_cmrt>0.97</acc_cnt_cmrt>\\r\\n                <dth_dnv_cnt>0</dth_dnv_cnt>\\r\\n                <dth_dnv_cnt_cmrt>0.00</dth_dnv_cnt_cmrt>\\r\\n                <ftlt_rate>0.00</ftlt_rate>\\r\\n                <injpsn_cnt>126</injpsn_cnt>\\r\\n                <injpsn_cnt_cmrt>0.89</injpsn_cnt_cmrt>\\r\\n                <tot_acc_cnt>11054</tot_acc_cnt>\\r\\n                <tot_dth_dnv_cnt>28</tot_dth_dnv_cnt>\\r\\n                <tot_injpsn_cnt>14115</tot_injpsn_cnt>\\r\\n            </item>\\r\\n            <item>\\r\\n                <std_year>2019</std_year>\\r\\n                <acc_cl_nm>고령자사고</acc_cl_nm>\\r\\n                <sido_sgg_nm>서울특별시 강남구</sido_sgg_nm>\\r\\n                <acc_cnt>352</acc_cnt>\\r\\n                <acc_cnt_cmrt>0.87</acc_cnt_cmrt>\\r\\n                <dth_dnv_cnt>6</dth_dnv_cnt>\\r\\n                <dth_dnv_cnt_cmrt>0.39</dth_dnv_cnt_cmrt>\\r\\n                <ftlt_rate>1.70</ftlt_rate>\\r\\n                <injpsn_cnt>366</injpsn_cnt>\\r\\n                <injpsn_cnt_cmrt>0.82</injpsn_cnt_cmrt>\\r\\n                <tot_acc_cnt>40645</tot_acc_cnt>\\r\\n                <tot_dth_dnv_cnt>1523</tot_dth_dnv_cnt>\\r\\n                <tot_injpsn_cnt>44390</tot_injpsn_cnt>\\r\\n            </item>\\r\\n            <item>\\r\\n                <std_year>2019</std_year>\\r\\n                <acc_cl_nm>보행자사고</acc_cl_nm>\\r\\n                <sido_sgg_nm>서울특별시 강남구</sido_sgg_nm>\\r\\n                <acc_cnt>839</acc_cnt>\\r\\n                <acc_cnt_cmrt>1.80</acc_cnt_cmrt>\\r\\n                <dth_dnv_cnt>8</dth_dnv_cnt>\\r\\n                <dth_dnv_cnt_cmrt>0.61</dth_dnv_cnt_cmrt>\\r\\n                <ftlt_rate>0.95</ftlt_rate>\\r\\n                <injpsn_cnt>863</injpsn_cnt>\\r\\n                <injpsn_cnt_cmrt>1.83</injpsn_cnt_cmrt>\\r\\n                <tot_acc_cnt>46682</tot_acc_cnt>\\r\\n                <tot_dth_dnv_cnt>1302</tot_dth_dnv_cnt>\\r\\n                <tot_injpsn_cnt>47200</tot_injpsn_cnt>\\r\\n            </item>\\r\\n            <item>\\r\\n                <std_year>2019</std_year>\\r\\n                <acc_cl_nm>자전거사고</acc_cl_nm>\\r\\n                <sido_sgg_nm>서울특별시 강남구</sido_sgg_nm>\\r\\n                <acc_cnt>60</acc_cnt>\\r\\n                <acc_cnt_cmrt>1.07</acc_cnt_cmrt>\\r\\n                <dth_dnv_cnt>0</dth_dnv_cnt>\\r\\n                <dth_dnv_cnt_cmrt>0.00</dth_dnv_cnt_cmrt>\\r\\n                <ftlt_rate>0.00</ftlt_rate>\\r\\n                <injpsn_cnt>70</injpsn_cnt>\\r\\n                <injpsn_cnt_cmrt>1.16</injpsn_cnt_cmrt>\\r\\n                <tot_acc_cnt>5633</tot_acc_cnt>\\r\\n                <tot_dth_dnv_cnt>79</tot_dth_dnv_cnt>\\r\\n                <tot_injpsn_cnt>6020</tot_injpsn_cnt>\\r\\n            </item>\\r\\n            <item>\\r\\n                <std_year>2019</std_year>\\r\\n                <acc_cl_nm>야간사고</acc_cl_nm>\\r\\n                <sido_sgg_nm>서울특별시 강남구</sido_sgg_nm>\\r\\n                <acc_cnt>1688</acc_cnt>\\r\\n                <acc_cnt_cmrt>1.85</acc_cnt_cmrt>\\r\\n                <dth_dnv_cnt>10</dth_dnv_cnt>\\r\\n                <dth_dnv_cnt_cmrt>0.63</dth_dnv_cnt_cmrt>\\r\\n                <ftlt_rate>0.59</ftlt_rate>\\r\\n                <injpsn_cnt>2421</injpsn_cnt>\\r\\n                <injpsn_cnt_cmrt>1.80</injpsn_cnt_cmrt>\\r\\n                <tot_acc_cnt>91067</tot_acc_cnt>\\r\\n                <tot_dth_dnv_cnt>1599</tot_dth_dnv_cnt>\\r\\n                <tot_injpsn_cnt>134686</tot_injpsn_cnt>\\r\\n            </item>\\r\\n            <item>\\r\\n                <std_year>2019</std_year>\\r\\n                <acc_cl_nm>어린이보행사고</acc_cl_nm>\\r\\n                <sido_sgg_nm>서울특별시 강남구</sido_sgg_nm>\\r\\n                <acc_cnt>44</acc_cnt>\\r\\n                <acc_cnt_cmrt>1.14</acc_cnt_cmrt>\\r\\n                <dth_dnv_cnt>0</dth_dnv_cnt>\\r\\n                <dth_dnv_cnt_cmrt>0.00</dth_dnv_cnt_cmrt>\\r\\n                <ftlt_rate>0.00</ftlt_rate>\\r\\n                <injpsn_cnt>44</injpsn_cnt>\\r\\n                <injpsn_cnt_cmrt>1.12</injpsn_cnt_cmrt>\\r\\n                <tot_acc_cnt>3856</tot_acc_cnt>\\r\\n                <tot_dth_dnv_cnt>20</tot_dth_dnv_cnt>\\r\\n                <tot_injpsn_cnt>3942</tot_injpsn_cnt>\\r\\n            </item>\\r\\n            <item>\\r\\n                <std_year>2019</std_year>\\r\\n                <acc_cl_nm>스쿨존내어린이사고</acc_cl_nm>\\r\\n                <sido_sgg_nm>서울특별시 강남구</sido_sgg_nm>\\r\\n                <acc_cnt>6</acc_cnt>\\r\\n                <acc_cnt_cmrt>1.06</acc_cnt_cmrt>\\r\\n                <dth_dnv_cnt>0</dth_dnv_cnt>\\r\\n                <dth_dnv_cnt_cmrt>0.00</dth_dnv_cnt_cmrt>\\r\\n                <ftlt_rate>0.00</ftlt_rate>\\r\\n                <injpsn_cnt>6</injpsn_cnt>\\r\\n                <injpsn_cnt_cmrt>1.02</injpsn_cnt_cmrt>\\r\\n                <tot_acc_cnt>567</tot_acc_cnt>\\r\\n                <tot_dth_dnv_cnt>6</tot_dth_dnv_cnt>\\r\\n                <tot_injpsn_cnt>589</tot_injpsn_cnt>\\r\\n            </item>\\r\\n            <item>\\r\\n                <std_year>2019</std_year>\\r\\n                <acc_cl_nm>고령운전자사고</acc_cl_nm>\\r\\n                <sido_sgg_nm>서울특별시 강남구</sido_sgg_nm>\\r\\n                <acc_cnt>457</acc_cnt>\\r\\n                <acc_cnt_cmrt>1.37</acc_cnt_cmrt>\\r\\n                <dth_dnv_cnt>2</dth_dnv_cnt>\\r\\n                <dth_dnv_cnt_cmrt>0.26</dth_dnv_cnt_cmrt>\\r\\n                <ftlt_rate>0.44</ftlt_rate>\\r\\n                <injpsn_cnt>613</injpsn_cnt>\\r\\n                <injpsn_cnt_cmrt>1.27</injpsn_cnt_cmrt>\\r\\n                <tot_acc_cnt>33239</tot_acc_cnt>\\r\\n                <tot_dth_dnv_cnt>769</tot_dth_dnv_cnt>\\r\\n                <tot_injpsn_cnt>48223</tot_injpsn_cnt>\\r\\n            </item>\\r\\n            <item>\\r\\n                <std_year>2019</std_year>\\r\\n                <acc_cl_nm>고령보행자사고</acc_cl_nm>\\r\\n                <sido_sgg_nm>서울특별시 강남구</sido_sgg_nm>\\r\\n                <acc_cnt>91</acc_cnt>\\r\\n                <acc_cnt_cmrt>0.74</acc_cnt_cmrt>\\r\\n                <dth_dnv_cnt>5</dth_dnv_cnt>\\r\\n                <dth_dnv_cnt_cmrt>0.67</dth_dnv_cnt_cmrt>\\r\\n                <ftlt_rate>5.49</ftlt_rate>\\r\\n                <injpsn_cnt>87</injpsn_cnt>\\r\\n                <injpsn_cnt_cmrt>0.75</injpsn_cnt_cmrt>\\r\\n                <tot_acc_cnt>12249</tot_acc_cnt>\\r\\n                <tot_dth_dnv_cnt>743</tot_dth_dnv_cnt>\\r\\n                <tot_injpsn_cnt>11653</tot_injpsn_cnt>\\r\\n            </item>\\r\\n            <item>\\r\\n                <std_year>2019</std_year>\\r\\n                <acc_cl_nm>개인이동수단(PM)사고</acc_cl_nm>\\r\\n                <sido_sgg_nm>서울특별시 강남구</sido_sgg_nm>\\r\\n                <acc_cnt>36</acc_cnt>\\r\\n                <acc_cnt_cmrt>8.05</acc_cnt_cmrt>\\r\\n                <dth_dnv_cnt>0</dth_dnv_cnt>\\r\\n                <dth_dnv_cnt_cmrt>0.00</dth_dnv_cnt_cmrt>\\r\\n                <ftlt_rate>0.00</ftlt_rate>\\r\\n                <injpsn_cnt>38</injpsn_cnt>\\r\\n                <injpsn_cnt_cmrt>8.03</injpsn_cnt_cmrt>\\r\\n                <tot_acc_cnt>447</tot_acc_cnt>\\r\\n                <tot_dth_dnv_cnt>8</tot_dth_dnv_cnt>\\r\\n                <tot_injpsn_cnt>473</tot_injpsn_cnt>\\r\\n            </item>\\r\\n            <item>\\r\\n                <std_year>2019</std_year>\\r\\n                <acc_cl_nm>뺑소니사고</acc_cl_nm>\\r\\n                <sido_sgg_nm>서울특별시 강남구</sido_sgg_nm>\\r\\n                <acc_cnt>65</acc_cnt>\\r\\n                <acc_cnt_cmrt>0.91</acc_cnt_cmrt>\\r\\n                <dth_dnv_cnt>0</dth_dnv_cnt>\\r\\n                <dth_dnv_cnt_cmrt>0.00</dth_dnv_cnt_cmrt>\\r\\n                <ftlt_rate>0.00</ftlt_rate>\\r\\n                <injpsn_cnt>107</injpsn_cnt>\\r\\n                <injpsn_cnt_cmrt>1.04</injpsn_cnt_cmrt>\\r\\n                <tot_acc_cnt>7129</tot_acc_cnt>\\r\\n                <tot_dth_dnv_cnt>90</tot_dth_dnv_cnt>\\r\\n                <tot_injpsn_cnt>10285</tot_injpsn_cnt>\\r\\n            </item>\\r\\n            <item>\\r\\n                <std_year>2019</std_year>\\r\\n                <acc_cl_nm>무면허사고</acc_cl_nm>\\r\\n                <sido_sgg_nm>서울특별시 강남구</sido_sgg_nm>\\r\\n                <acc_cnt>66</acc_cnt>\\r\\n                <acc_cnt_cmrt>1.27</acc_cnt_cmrt>\\r\\n                <dth_dnv_cnt>0</dth_dnv_cnt>\\r\\n                <dth_dnv_cnt_cmrt>0.00</dth_dnv_cnt_cmrt>\\r\\n                <ftlt_rate>0.00</ftlt_rate>\\r\\n                <injpsn_cnt>87</injpsn_cnt>\\r\\n                <injpsn_cnt_cmrt>1.17</injpsn_cnt_cmrt>\\r\\n                <tot_acc_cnt>5177</tot_acc_cnt>\\r\\n                <tot_dth_dnv_cnt>163</tot_dth_dnv_cnt>\\r\\n                <tot_injpsn_cnt>7445</tot_injpsn_cnt>\\r\\n            </item>\\r\\n        </items>\\r\\n        <totalCount>13</totalCount>\\r\\n        <numOfRows>13</numOfRows>\\r\\n        <pageNo>1</pageNo>\\r\\n    </body>\\r\\n</response>\\r\\n'"
            ],
            "application/vnd.google.colaboratory.intrinsic+json": {
              "type": "string"
            }
          },
          "metadata": {},
          "execution_count": 27
        }
      ]
    },
    {
      "cell_type": "markdown",
      "source": [
        "#### http://jsonviewer.stack.hu/ (copy json here to view json)"
      ],
      "metadata": {
        "id": "faIENRyFfnY1"
      }
    },
    {
      "cell_type": "code",
      "source": [
        "r = response.json()\n",
        "r"
      ],
      "metadata": {
        "id": "JcLKwg0foR9p",
        "outputId": "c376fc13-b0e7-41cf-92ca-ec335e0dddb8",
        "colab": {
          "base_uri": "https://localhost:8080/"
        }
      },
      "execution_count": 32,
      "outputs": [
        {
          "output_type": "execute_result",
          "data": {
            "text/plain": [
              "{'items': {'item': [{'acc_cl_nm': '전체사고',\n",
              "    'acc_cnt': '3722',\n",
              "    'acc_cnt_cmrt': '1.62',\n",
              "    'car_10k': '147.41',\n",
              "    'cnt_014_01': '825',\n",
              "    'cnt_014_02': '2832',\n",
              "    'cnt_014_03': '65',\n",
              "    'cnt_014_04': '0',\n",
              "    'cnt_027_01': '13',\n",
              "    'cnt_027_02': '76',\n",
              "    'cnt_027_03': '330',\n",
              "    'cnt_027_04': '515',\n",
              "    'cnt_027_05': '2150',\n",
              "    'cnt_027_06': '154',\n",
              "    'cnt_027_07': '125',\n",
              "    'cnt_027_99': '359',\n",
              "    'dth_dnv_cnt': '14',\n",
              "    'dth_dnv_cnt_cmrt': '0.42',\n",
              "    'ftlt_rate': '0.38',\n",
              "    'injpsn_cnt': '5182',\n",
              "    'injpsn_cnt_cmrt': '1.52',\n",
              "    'pop_100k': '675.81',\n",
              "    'sido_sgg_nm': '서울특별시 강남구',\n",
              "    'std_year': '2019',\n",
              "    'tot_acc_cnt': '229600',\n",
              "    'tot_dth_dnv_cnt': '3349',\n",
              "    'tot_injpsn_cnt': '341712'},\n",
              "   {'acc_cl_nm': '어린이사고',\n",
              "    'acc_cnt': '107',\n",
              "    'acc_cnt_cmrt': '0.97',\n",
              "    'dth_dnv_cnt': '0',\n",
              "    'dth_dnv_cnt_cmrt': '0.00',\n",
              "    'ftlt_rate': '0.00',\n",
              "    'injpsn_cnt': '126',\n",
              "    'injpsn_cnt_cmrt': '0.89',\n",
              "    'sido_sgg_nm': '서울특별시 강남구',\n",
              "    'std_year': '2019',\n",
              "    'tot_acc_cnt': '11054',\n",
              "    'tot_dth_dnv_cnt': '28',\n",
              "    'tot_injpsn_cnt': '14115'},\n",
              "   {'acc_cl_nm': '고령자사고',\n",
              "    'acc_cnt': '352',\n",
              "    'acc_cnt_cmrt': '0.87',\n",
              "    'dth_dnv_cnt': '6',\n",
              "    'dth_dnv_cnt_cmrt': '0.39',\n",
              "    'ftlt_rate': '1.70',\n",
              "    'injpsn_cnt': '366',\n",
              "    'injpsn_cnt_cmrt': '0.82',\n",
              "    'sido_sgg_nm': '서울특별시 강남구',\n",
              "    'std_year': '2019',\n",
              "    'tot_acc_cnt': '40645',\n",
              "    'tot_dth_dnv_cnt': '1523',\n",
              "    'tot_injpsn_cnt': '44390'},\n",
              "   {'acc_cl_nm': '보행자사고',\n",
              "    'acc_cnt': '839',\n",
              "    'acc_cnt_cmrt': '1.80',\n",
              "    'dth_dnv_cnt': '8',\n",
              "    'dth_dnv_cnt_cmrt': '0.61',\n",
              "    'ftlt_rate': '0.95',\n",
              "    'injpsn_cnt': '863',\n",
              "    'injpsn_cnt_cmrt': '1.83',\n",
              "    'sido_sgg_nm': '서울특별시 강남구',\n",
              "    'std_year': '2019',\n",
              "    'tot_acc_cnt': '46682',\n",
              "    'tot_dth_dnv_cnt': '1302',\n",
              "    'tot_injpsn_cnt': '47200'},\n",
              "   {'acc_cl_nm': '자전거사고',\n",
              "    'acc_cnt': '60',\n",
              "    'acc_cnt_cmrt': '1.07',\n",
              "    'dth_dnv_cnt': '0',\n",
              "    'dth_dnv_cnt_cmrt': '0.00',\n",
              "    'ftlt_rate': '0.00',\n",
              "    'injpsn_cnt': '70',\n",
              "    'injpsn_cnt_cmrt': '1.16',\n",
              "    'sido_sgg_nm': '서울특별시 강남구',\n",
              "    'std_year': '2019',\n",
              "    'tot_acc_cnt': '5633',\n",
              "    'tot_dth_dnv_cnt': '79',\n",
              "    'tot_injpsn_cnt': '6020'},\n",
              "   {'acc_cl_nm': '야간사고',\n",
              "    'acc_cnt': '1688',\n",
              "    'acc_cnt_cmrt': '1.85',\n",
              "    'dth_dnv_cnt': '10',\n",
              "    'dth_dnv_cnt_cmrt': '0.63',\n",
              "    'ftlt_rate': '0.59',\n",
              "    'injpsn_cnt': '2421',\n",
              "    'injpsn_cnt_cmrt': '1.80',\n",
              "    'sido_sgg_nm': '서울특별시 강남구',\n",
              "    'std_year': '2019',\n",
              "    'tot_acc_cnt': '91067',\n",
              "    'tot_dth_dnv_cnt': '1599',\n",
              "    'tot_injpsn_cnt': '134686'},\n",
              "   {'acc_cl_nm': '어린이보행사고',\n",
              "    'acc_cnt': '44',\n",
              "    'acc_cnt_cmrt': '1.14',\n",
              "    'dth_dnv_cnt': '0',\n",
              "    'dth_dnv_cnt_cmrt': '0.00',\n",
              "    'ftlt_rate': '0.00',\n",
              "    'injpsn_cnt': '44',\n",
              "    'injpsn_cnt_cmrt': '1.12',\n",
              "    'sido_sgg_nm': '서울특별시 강남구',\n",
              "    'std_year': '2019',\n",
              "    'tot_acc_cnt': '3856',\n",
              "    'tot_dth_dnv_cnt': '20',\n",
              "    'tot_injpsn_cnt': '3942'},\n",
              "   {'acc_cl_nm': '스쿨존내어린이사고',\n",
              "    'acc_cnt': '6',\n",
              "    'acc_cnt_cmrt': '1.06',\n",
              "    'dth_dnv_cnt': '0',\n",
              "    'dth_dnv_cnt_cmrt': '0.00',\n",
              "    'ftlt_rate': '0.00',\n",
              "    'injpsn_cnt': '6',\n",
              "    'injpsn_cnt_cmrt': '1.02',\n",
              "    'sido_sgg_nm': '서울특별시 강남구',\n",
              "    'std_year': '2019',\n",
              "    'tot_acc_cnt': '567',\n",
              "    'tot_dth_dnv_cnt': '6',\n",
              "    'tot_injpsn_cnt': '589'},\n",
              "   {'acc_cl_nm': '고령운전자사고',\n",
              "    'acc_cnt': '457',\n",
              "    'acc_cnt_cmrt': '1.37',\n",
              "    'dth_dnv_cnt': '2',\n",
              "    'dth_dnv_cnt_cmrt': '0.26',\n",
              "    'ftlt_rate': '0.44',\n",
              "    'injpsn_cnt': '613',\n",
              "    'injpsn_cnt_cmrt': '1.27',\n",
              "    'sido_sgg_nm': '서울특별시 강남구',\n",
              "    'std_year': '2019',\n",
              "    'tot_acc_cnt': '33239',\n",
              "    'tot_dth_dnv_cnt': '769',\n",
              "    'tot_injpsn_cnt': '48223'},\n",
              "   {'acc_cl_nm': '고령보행자사고',\n",
              "    'acc_cnt': '91',\n",
              "    'acc_cnt_cmrt': '0.74',\n",
              "    'dth_dnv_cnt': '5',\n",
              "    'dth_dnv_cnt_cmrt': '0.67',\n",
              "    'ftlt_rate': '5.49',\n",
              "    'injpsn_cnt': '87',\n",
              "    'injpsn_cnt_cmrt': '0.75',\n",
              "    'sido_sgg_nm': '서울특별시 강남구',\n",
              "    'std_year': '2019',\n",
              "    'tot_acc_cnt': '12249',\n",
              "    'tot_dth_dnv_cnt': '743',\n",
              "    'tot_injpsn_cnt': '11653'},\n",
              "   {'acc_cl_nm': '개인이동수단(PM)사고',\n",
              "    'acc_cnt': '36',\n",
              "    'acc_cnt_cmrt': '8.05',\n",
              "    'dth_dnv_cnt': '0',\n",
              "    'dth_dnv_cnt_cmrt': '0.00',\n",
              "    'ftlt_rate': '0.00',\n",
              "    'injpsn_cnt': '38',\n",
              "    'injpsn_cnt_cmrt': '8.03',\n",
              "    'sido_sgg_nm': '서울특별시 강남구',\n",
              "    'std_year': '2019',\n",
              "    'tot_acc_cnt': '447',\n",
              "    'tot_dth_dnv_cnt': '8',\n",
              "    'tot_injpsn_cnt': '473'},\n",
              "   {'acc_cl_nm': '뺑소니사고',\n",
              "    'acc_cnt': '65',\n",
              "    'acc_cnt_cmrt': '0.91',\n",
              "    'dth_dnv_cnt': '0',\n",
              "    'dth_dnv_cnt_cmrt': '0.00',\n",
              "    'ftlt_rate': '0.00',\n",
              "    'injpsn_cnt': '107',\n",
              "    'injpsn_cnt_cmrt': '1.04',\n",
              "    'sido_sgg_nm': '서울특별시 강남구',\n",
              "    'std_year': '2019',\n",
              "    'tot_acc_cnt': '7129',\n",
              "    'tot_dth_dnv_cnt': '90',\n",
              "    'tot_injpsn_cnt': '10285'},\n",
              "   {'acc_cl_nm': '무면허사고',\n",
              "    'acc_cnt': '66',\n",
              "    'acc_cnt_cmrt': '1.27',\n",
              "    'dth_dnv_cnt': '0',\n",
              "    'dth_dnv_cnt_cmrt': '0.00',\n",
              "    'ftlt_rate': '0.00',\n",
              "    'injpsn_cnt': '87',\n",
              "    'injpsn_cnt_cmrt': '1.17',\n",
              "    'sido_sgg_nm': '서울특별시 강남구',\n",
              "    'std_year': '2019',\n",
              "    'tot_acc_cnt': '5177',\n",
              "    'tot_dth_dnv_cnt': '163',\n",
              "    'tot_injpsn_cnt': '7445'}]},\n",
              " 'numOfRows': 13,\n",
              " 'pageNo': 1,\n",
              " 'resultCode': '00',\n",
              " 'resultMsg': 'NORMAL_CODE',\n",
              " 'totalCount': 13}"
            ]
          },
          "metadata": {},
          "execution_count": 32
        }
      ]
    },
    {
      "cell_type": "code",
      "source": [
        "def test(siDo):\n",
        "  URL = ('http://apis.data.go.kr/B552061/lgStat/getRestLgStat?ServiceKey=nx3IshCSM91IvFfqKKs9dkSTux4l6vcJsUCrUuaGdCbSaIYsGgiBMhQ1ighTZL0WmoErNEqsVzgMU2UQEJGhpw%3D%3D&searchYearCd=2020&siDo=+siDo+&guGun=&numOfRows=13&pageNo=1&type=json')\n",
        "  \n",
        "  response = requests.get(URL)\n",
        "  r = response.json()\n",
        "  items = r['items']['item']\n",
        "\n",
        "  sido_sgg_nm = [it['sido_sgg_nm'] for item in items]\n",
        "  acc_cnt = [it['acc_cnt'] for item in items]\n",
        "  injpsn_cnt = [it['injpsn_cnt'] for item in items]\n",
        "  dth_dnv_cnt = [it['dth_dnv_cnt'] for item in items]\n",
        "\n",
        "  \n",
        "\n",
        "  sido_sgg_nm = pd.Series(sido_sgg_nm)\n",
        "  acc_cnt = pd.Series(acc_cnt)\n",
        "  injpsn_cnt = pd.Series(injpsn_cnt) \n",
        "  dth_dnv_cnt = pd.Series(dth_dnv_cnt)\n",
        "  \n",
        " \n",
        "\n",
        "  df = pd.DataFrame({ '도시이름': sido_sgg_nm, '사고건수': acc_cnt, '부상자 수':injpsn_cnt,'사망자 수':dth_dnv_cnt})\n",
        "  return df\n"
      ],
      "metadata": {
        "id": "3OegfOp4lYPV"
      },
      "execution_count": 66,
      "outputs": []
    },
    {
      "cell_type": "code",
      "source": [
        "iface = gr.Interface(test, gr.inputs.Dropdown(['1100','1200','2200']), outputs=['dataframe'])\n",
        "iface.launch(debug=True)"
      ],
      "metadata": {
        "id": "t0dIvn-fnApj",
        "outputId": "87fb36c9-f72b-49af-c33c-d708c57b7d69",
        "colab": {
          "base_uri": "https://localhost:8080/",
          "height": 715
        }
      },
      "execution_count": null,
      "outputs": [
        {
          "output_type": "stream",
          "name": "stdout",
          "text": [
            "Colab notebook detected. This cell will run indefinitely so that you can see errors and logs. To turn off, set debug=False in launch().\n",
            "Running on public URL: https://44864.gradio.app\n",
            "\n",
            "This share link expires in 72 hours. For free permanent hosting, check out Spaces (https://huggingface.co/spaces)\n"
          ]
        },
        {
          "output_type": "display_data",
          "data": {
            "text/plain": [
              "<IPython.lib.display.IFrame at 0x7f68cdd0c110>"
            ],
            "text/html": [
              "\n",
              "        <iframe\n",
              "            width=\"900\"\n",
              "            height=\"500\"\n",
              "            src=\"https://44864.gradio.app\"\n",
              "            frameborder=\"0\"\n",
              "            allowfullscreen\n",
              "        ></iframe>\n",
              "        "
            ]
          },
          "metadata": {}
        },
        {
          "output_type": "stream",
          "name": "stderr",
          "text": [
            "/usr/local/lib/python3.7/dist-packages/ipykernel_launcher.py:15: DeprecationWarning: The default dtype for empty Series will be 'object' instead of 'float64' in a future version. Specify a dtype explicitly to silence this warning.\n",
            "  from ipykernel import kernelapp as app\n",
            "/usr/local/lib/python3.7/dist-packages/ipykernel_launcher.py:16: DeprecationWarning: The default dtype for empty Series will be 'object' instead of 'float64' in a future version. Specify a dtype explicitly to silence this warning.\n",
            "  app.launch_new_instance()\n",
            "/usr/local/lib/python3.7/dist-packages/ipykernel_launcher.py:17: DeprecationWarning: The default dtype for empty Series will be 'object' instead of 'float64' in a future version. Specify a dtype explicitly to silence this warning.\n",
            "/usr/local/lib/python3.7/dist-packages/ipykernel_launcher.py:18: DeprecationWarning: The default dtype for empty Series will be 'object' instead of 'float64' in a future version. Specify a dtype explicitly to silence this warning.\n"
          ]
        }
      ]
    },
    {
      "cell_type": "code",
      "source": [
        "items = r['response']['body']['items']\n",
        "\n",
        "cityName = [item['cityName'] for item in items]\n",
        "pm10Value = [item['pm10Value'] for item in items]\n",
        "pm25Value = [item['pm25Value'] for item in items]\n",
        "so2Value = [item['so2Value'] for item in items]\n",
        "coValue = [item['coValue'] for item in items]\n",
        "o3Value = [item['o3Value'] for item in items]\n",
        "no2Value = [item['no2Value'] for item in items]\n",
        "\n",
        "cityName = pd.Series(cityName)\n",
        "pm10Value = pd.Series(pm10Value)   \n",
        "pm25Value = pd.Series(pm25Value)\n",
        "so2Value = pd.Series(so2Value)\n",
        "coValue = pd.Series(coValue)\n",
        "o3Value = pd.Series(o3Value)\n",
        "no2Value = pd.Series(no2Value)\n",
        "\n",
        "df = pd.DataFrame({ 'cityName': cityName, 'pm10Value': pm10Value, 'pm25Value': pm25Value, 'so2Value': so2Value, 'coValue': coValue, 'o3Value': o3Value, 'no2Value': no2Value})"
      ],
      "metadata": {
        "id": "W8lA0-IzE55W"
      },
      "execution_count": null,
      "outputs": []
    },
    {
      "cell_type": "code",
      "source": [
        "def test(siDo,guGun):\n",
        "  URL = ('http://apis.data.go.kr/B552061/lgStat/getRestLgStat?ServiceKey=nx3IshCSM91IvFfqKKs9dkSTux4l6vcJsUCrUuaGdCbSaIYsGgiBMhQ1ighTZL0WmoErNEqsVzgMU2UQEJGhpw%3D%3D&searchYearCd=2021&siDo=+siDo+&guGun=+guGun&numOfRows=100&pageNo=1&returnType=json'\n",
        "  \n",
        "response=requests.get(URL)\n"
      ],
      "metadata": {
        "id": "xa2Gb_qsm_G5",
        "outputId": "1913740c-07ed-4668-e224-18b8a3148f99",
        "colab": {
          "base_uri": "https://localhost:8080/",
          "height": 131
        }
      },
      "execution_count": 25,
      "outputs": [
        {
          "output_type": "error",
          "ename": "SyntaxError",
          "evalue": "ignored",
          "traceback": [
            "\u001b[0;36m  File \u001b[0;32m\"<ipython-input-25-2279ff12ad43>\"\u001b[0;36m, line \u001b[0;32m4\u001b[0m\n\u001b[0;31m    response=requests.get(URL)\u001b[0m\n\u001b[0m           ^\u001b[0m\n\u001b[0;31mSyntaxError\u001b[0m\u001b[0;31m:\u001b[0m invalid syntax\n"
          ]
        }
      ]
    },
    {
      "cell_type": "code",
      "source": [
        "iface = gr.Interface(test, gr.inputs.Dropdown(['서울', '부산', '대구', '인천', '광주', '대전', '울산', '경기', '강원', '충북', '충남', '전북', '전남', '경북', '경남', '제주', '세종']), outputs=['dataframe'])\n",
        "iface.launch(debug=True)"
      ],
      "metadata": {
        "id": "kxORJVPOnDSP",
        "outputId": "f394f8de-539c-4e16-db4b-1bd253f38645",
        "colab": {
          "base_uri": "https://localhost:8080/",
          "height": 591
        }
      },
      "execution_count": null,
      "outputs": [
        {
          "output_type": "stream",
          "name": "stdout",
          "text": [
            "Colab notebook detected. This cell will run indefinitely so that you can see errors and logs. To turn off, set debug=False in launch().\n",
            "Running on public URL: https://14609.gradio.app\n",
            "\n",
            "This share link expires in 72 hours. For free permanent hosting, check out Spaces (https://huggingface.co/spaces)\n"
          ]
        },
        {
          "output_type": "display_data",
          "data": {
            "text/plain": [
              "<IPython.lib.display.IFrame at 0x7f7106ad3ed0>"
            ],
            "text/html": [
              "\n",
              "        <iframe\n",
              "            width=\"900\"\n",
              "            height=\"500\"\n",
              "            src=\"https://14609.gradio.app\"\n",
              "            frameborder=\"0\"\n",
              "            allowfullscreen\n",
              "        ></iframe>\n",
              "        "
            ]
          },
          "metadata": {}
        }
      ]
    }
  ]
}