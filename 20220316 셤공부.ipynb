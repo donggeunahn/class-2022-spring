{
  "nbformat": 4,
  "nbformat_minor": 0,
  "metadata": {
    "colab": {
      "name": "2022 0316.ipynb",
      "provenance": [],
      "authorship_tag": "ABX9TyMWkD/YO2TIvOmaj6n9/8SG",
      "include_colab_link": true
    },
    "kernelspec": {
      "name": "python3",
      "display_name": "Python 3"
    },
    "language_info": {
      "name": "python"
    }
  },
  "cells": [
    {
      "cell_type": "markdown",
      "metadata": {
        "id": "view-in-github",
        "colab_type": "text"
      },
      "source": [
        "<a href=\"https://colab.research.google.com/github/donggeunahn/class-2022-spring/blob/main/20220316%20%EC%85%A4%EA%B3%B5%EB%B6%80.ipynb\" target=\"_parent\"><img src=\"https://colab.research.google.com/assets/colab-badge.svg\" alt=\"Open In Colab\"/></a>"
      ]
    },
    {
      "cell_type": "code",
      "execution_count": 6,
      "metadata": {
        "id": "lIfI270K-v_R"
      },
      "outputs": [],
      "source": [
        "import numpy as np\n",
        "import matplotlib.pyplot as plt\n",
        "import IPython.display as ipd"
      ]
    },
    {
      "cell_type": "markdown",
      "source": [
        "numpy, matplotlib.pyplot, ipd를 import하여 np, plt,ipd로 명명한다"
      ],
      "metadata": {
        "id": "b-QYyBA46YxH"
      }
    },
    {
      "cell_type": "code",
      "source": [
        "import numpy as np\n",
        "#numpy를 import하고 np라고 명명한다\n",
        "#numpy라는 패키지는 난수(random number)를 generate, 행렬을 만들거나 통계처리를 할때 사용된다.\n",
        "#AI와 데이터 사이언스의 가장 중요한 패키지\n",
        "np.random.randn(5)\n",
        "#randn은 난수를 만들어주는 함수\n",
        "#평균이 0 s.d가 1인 난수를 구해줌 \n",
        "n = np.random.randn(100)\n",
        "#100개의 random number를 만들고 n이라는 variable이라고 한다\n",
        "#numpy 안의 random이라는 디렉토리에서 randn이라는 함수\n"
      ],
      "metadata": {
        "id": "UkC46NuM6bA7"
      },
      "execution_count": 9,
      "outputs": []
    },
    {
      "cell_type": "code",
      "source": [
        "import matplotlib\n",
        "#matplotlib를 import한다\n",
        "matplotlib.pyplot.hist(n)\n",
        "#matplotlib 안의 pyplot이라는 디렉토리에서 hist라는 함수에 n을 넣은 값\n",
        "#n이 random number라 다시 실행하면 새로운 히스토그램이 그려짐\n",
        "#hist(n)은 n을 히스토그램으로 표현하라는 뜻\n",
        "#히스토그램은 x축에 숫자 y축에 횟수를 표현한 그래프"
      ],
      "metadata": {
        "id": "Jl-kmkBX6buj",
        "outputId": "2d2604ce-3717-4304-a2f0-b16326cfbe88",
        "colab": {
          "base_uri": "https://localhost:8080/",
          "height": 355
        }
      },
      "execution_count": 10,
      "outputs": [
        {
          "output_type": "execute_result",
          "data": {
            "text/plain": [
              "(array([ 2.,  4.,  9., 19., 24., 29.,  9.,  2.,  1.,  1.]),\n",
              " array([-3.0668946, -2.3991361, -1.7313776, -1.0636191, -0.3958606,\n",
              "         0.2718979,  0.9396564,  1.6074149,  2.2751734,  2.9429319,\n",
              "         3.6106904]),\n",
              " <a list of 10 Patch objects>)"
            ]
          },
          "metadata": {},
          "execution_count": 10
        },
        {
          "output_type": "display_data",
          "data": {
            "text/plain": [
              "<Figure size 432x288 with 1 Axes>"
            ],
            "image/png": "[encoded data removed]"
          },
          "metadata": {
            "needs_background": "light"
          }
        }
      ]
    },
    {
      "cell_type": "code",
      "source": [
        "import matplotlib.pyplot\n",
        "#하위 디렉토리(pyplot)까지 import한 경우\n",
        "matplotlib.pyplot.hist(n)"
      ],
      "metadata": {
        "id": "7zSI6uPd6eAV",
        "outputId": "0a75ad84-c61c-4b04-d81e-c24bf35a2a1b",
        "colab": {
          "base_uri": "https://localhost:8080/",
          "height": 355
        }
      },
      "execution_count": 11,
      "outputs": [
        {
          "output_type": "execute_result",
          "data": {
            "text/plain": [
              "(array([ 2.,  4.,  9., 19., 24., 29.,  9.,  2.,  1.,  1.]),\n",
              " array([-3.0668946, -2.3991361, -1.7313776, -1.0636191, -0.3958606,\n",
              "         0.2718979,  0.9396564,  1.6074149,  2.2751734,  2.9429319,\n",
              "         3.6106904]),\n",
              " <a list of 10 Patch objects>)"
            ]
          },
          "metadata": {},
          "execution_count": 11
        },
        {
          "output_type": "display_data",
          "data": {
            "text/plain": [
              "<Figure size 432x288 with 1 Axes>"
            ],
            "image/png": "[encoded data removed]"
          },
          "metadata": {
            "needs_background": "light"
          }
        }
      ]
    },
    {
      "cell_type": "code",
      "source": [
        "import matplotlib.pyplot as plt\n",
        "#matplotlib.pyplot을 plt로 명명\n",
        "plt.hist(n)"
      ],
      "metadata": {
        "id": "AsUW7jWw6d-A",
        "outputId": "10a1cb9c-4079-4e55-b88d-e1b9780190a4",
        "colab": {
          "base_uri": "https://localhost:8080/",
          "height": 355
        }
      },
      "execution_count": 12,
      "outputs": [
        {
          "output_type": "execute_result",
          "data": {
            "text/plain": [
              "(array([ 2.,  4.,  9., 19., 24., 29.,  9.,  2.,  1.,  1.]),\n",
              " array([-3.0668946, -2.3991361, -1.7313776, -1.0636191, -0.3958606,\n",
              "         0.2718979,  0.9396564,  1.6074149,  2.2751734,  2.9429319,\n",
              "         3.6106904]),\n",
              " <a list of 10 Patch objects>)"
            ]
          },
          "metadata": {},
          "execution_count": 12
        },
        {
          "output_type": "display_data",
          "data": {
            "text/plain": [
              "<Figure size 432x288 with 1 Axes>"
            ],
            "image/png": "[encoded data removed]"
          },
          "metadata": {
            "needs_background": "light"
          }
        }
      ]
    },
    {
      "cell_type": "markdown",
      "source": [
        "from import를 쓰면 import as처럼 축약해서 부를 수 있는 효과"
      ],
      "metadata": {
        "id": "26qFj_EO6nRl"
      }
    },
    {
      "cell_type": "code",
      "source": [
        "from matplotlib import pyplot\n",
        "#from 함수를 사용하고 하위디렉토리만 import\n",
        "pyplot.hist(n)\n",
        "#matplotlib를 안써도 된다는 장점"
      ],
      "metadata": {
        "id": "P6LcVOOI6d7q",
        "outputId": "a79daf71-0a98-471a-fe4d-98659d86ca83",
        "colab": {
          "base_uri": "https://localhost:8080/",
          "height": 355
        }
      },
      "execution_count": 13,
      "outputs": [
        {
          "output_type": "execute_result",
          "data": {
            "text/plain": [
              "(array([ 2.,  4.,  9., 19., 24., 29.,  9.,  2.,  1.,  1.]),\n",
              " array([-3.0668946, -2.3991361, -1.7313776, -1.0636191, -0.3958606,\n",
              "         0.2718979,  0.9396564,  1.6074149,  2.2751734,  2.9429319,\n",
              "         3.6106904]),\n",
              " <a list of 10 Patch objects>)"
            ]
          },
          "metadata": {},
          "execution_count": 13
        },
        {
          "output_type": "display_data",
          "data": {
            "text/plain": [
              "<Figure size 432x288 with 1 Axes>"
            ],
            "image/png": "[encoded data removed]"
          },
          "metadata": {
            "needs_background": "light"
          }
        }
      ]
    },
    {
      "cell_type": "code",
      "source": [
        "from matplotlib.pyplot import hist\n",
        "#함수만 import 한 경우\n",
        "hist(n)\n",
        "#hist 함수만 쓰면 되는 경우"
      ],
      "metadata": {
        "id": "JRnUSbVe6d2x",
        "outputId": "3e1db85e-8886-4d4f-d92b-cac38a73fd31",
        "colab": {
          "base_uri": "https://localhost:8080/",
          "height": 355
        }
      },
      "execution_count": 14,
      "outputs": [
        {
          "output_type": "execute_result",
          "data": {
            "text/plain": [
              "(array([ 2.,  4.,  9., 19., 24., 29.,  9.,  2.,  1.,  1.]),\n",
              " array([-3.0668946, -2.3991361, -1.7313776, -1.0636191, -0.3958606,\n",
              "         0.2718979,  0.9396564,  1.6074149,  2.2751734,  2.9429319,\n",
              "         3.6106904]),\n",
              " <a list of 10 Patch objects>)"
            ]
          },
          "metadata": {},
          "execution_count": 14
        },
        {
          "output_type": "display_data",
          "data": {
            "text/plain": [
              "<Figure size 432x288 with 1 Axes>"
            ],
            "image/png": "[encoded data removed]"
          },
          "metadata": {
            "needs_background": "light"
          }
        }
      ]
    },
    {
      "cell_type": "markdown",
      "source": [
        "create nd arrays (≈matrices)\n",
        "행렬이라는 뜻\n",
        "직사각형의 숫자 배열\n",
        "nd=n-dimensional *이탤릭체 텍스트*\n",
        "\n",
        "행렬은 2d\n",
        "선은 1d"
      ],
      "metadata": {
        "id": "wi4rf-x-Dpaw"
      }
    },
    {
      "cell_type": "code",
      "source": [
        "import numpy as np\n"
      ],
      "metadata": {
        "id": "nmbbywGwDq9L"
      },
      "execution_count": 15,
      "outputs": []
    },
    {
      "cell_type": "code",
      "source": [
        "x = np.array([1,2,3])\n",
        "#list를 array로 바꿔줌-->list는 계산을 할 수 없음\n",
        "print(x)\n",
        "print(type(x))\n",
        "#class는 특수한 변수 -->nd array이다\n",
        "print(x.shape)\n",
        "#1d array라 (3,)"
      ],
      "metadata": {
        "id": "9yONU0_WDq5b",
        "outputId": "6d95e0f1-a9ee-45fc-dda2-9874f09465e6",
        "colab": {
          "base_uri": "https://localhost:8080/"
        }
      },
      "execution_count": 16,
      "outputs": [
        {
          "output_type": "stream",
          "name": "stdout",
          "text": [
            "[1 2 3]\n",
            "<class 'numpy.ndarray'>\n",
            "(3,)\n"
          ]
        }
      ]
    },
    {
      "cell_type": "code",
      "source": [
        "x = np.arange(0,10,2)\n",
        "#arange(a range)는 0부터 10보다 작게(0포함 10제외) 2만큼 증가\n",
        "#0,2,4,6,8\n",
        "print(x)\n",
        "print(type(x))\n",
        "print(x.shape)\n",
        "#5개가 들어있는 1d array -->(5,)"
      ],
      "metadata": {
        "id": "RPDcekjgDq28",
        "outputId": "16801f69-c08f-42b4-fb77-6a5dd1ae58e6",
        "colab": {
          "base_uri": "https://localhost:8080/"
        }
      },
      "execution_count": 17,
      "outputs": [
        {
          "output_type": "stream",
          "name": "stdout",
          "text": [
            "[0 2 4 6 8]\n",
            "<class 'numpy.ndarray'>\n",
            "(5,)\n"
          ]
        }
      ]
    },
    {
      "cell_type": "code",
      "source": [
        "x = np.linspace(0,10,6)\n",
        "#linspace는 0부터 10까지 등간격으로 총 6개 숫자를 만들어라\n",
        "#0,2,4,6,8,10\n",
        "print(x)\n",
        "print(type(x))\n",
        "print(x.shape)\n",
        "(6,)"
      ],
      "metadata": {
        "id": "QGTFTv_FDq0Z",
        "outputId": "c716c14c-f305-40ef-b3ef-266744a9c318",
        "colab": {
          "base_uri": "https://localhost:8080/"
        }
      },
      "execution_count": 4,
      "outputs": [
        {
          "output_type": "stream",
          "name": "stdout",
          "text": [
            "[ 0.  2.  4.  6.  8. 10.]\n",
            "<class 'numpy.ndarray'>\n",
            "(6,)\n"
          ]
        },
        {
          "output_type": "execute_result",
          "data": {
            "text/plain": [
              "(6,)"
            ]
          },
          "metadata": {},
          "execution_count": 4
        }
      ]
    },
    {
      "cell_type": "code",
      "source": [
        "x = np.array([[1,2,3], [4,5,6]])\n",
        "#list를 2개 씀--> 2d array\n",
        "\n",
        "print(x)\n",
        "print(type(x))\n",
        "print(x.shape)\n",
        "#row는 2개 column은 3개-->(2,3)"
      ],
      "metadata": {
        "id": "RDGdyuRDDqx7",
        "outputId": "85b287d9-034e-41f1-965e-9b810ec3a578",
        "colab": {
          "base_uri": "https://localhost:8080/"
        }
      },
      "execution_count": 5,
      "outputs": [
        {
          "output_type": "stream",
          "name": "stdout",
          "text": [
            "[[1 2 3]\n",
            " [4 5 6]]\n",
            "<class 'numpy.ndarray'>\n",
            "(2, 3)\n"
          ]
        }
      ]
    },
    {
      "cell_type": "code",
      "source": [
        "x = np.array([[[1,2,3], [4,5,6]], [[7,8,9], [10,11,12]]])\n",
        "#대괄호의 갯수가 d를 나타냄--> 3d array\n",
        "#2,2,3\n",
        "#[[[1,2,3], [4,5,6]], [[7,8,9], [10,11,12]]] 이라 2\n",
        "#[[[1,2,3], [4,5,6]] 이라 2\n",
        "# [[1,2,3]이라 3\n",
        "print(x)\n",
        "print(type(x))\n",
        "print(x.shape)"
      ],
      "metadata": {
        "id": "L4y-iQyBDqv2",
        "outputId": "40d3d8e7-089d-405c-81d7-69a595f4bc30",
        "colab": {
          "base_uri": "https://localhost:8080/"
        }
      },
      "execution_count": null,
      "outputs": [
        {
          "output_type": "stream",
          "name": "stdout",
          "text": [
            "[[[ 1  2  3]\n",
            "  [ 4  5  6]]\n",
            "\n",
            " [[ 7  8  9]\n",
            "  [10 11 12]]]\n",
            "<class 'numpy.ndarray'>\n",
            "(2, 2, 3)\n"
          ]
        }
      ]
    },
    {
      "cell_type": "code",
      "source": [
        "x = np.ones([2, 2, 3])\n",
        "#np. ones -->1로 채워져있는 array를 만들어줌\n",
        "print(x)\n",
        "print(type(x))\n",
        "print(x.shape)"
      ],
      "metadata": {
        "id": "rLSDNwoRDqrb",
        "outputId": "3523d92f-1b20-4310-80ec-8444f4bdd5f4",
        "colab": {
          "base_uri": "https://localhost:8080/"
        }
      },
      "execution_count": 18,
      "outputs": [
        {
          "output_type": "stream",
          "name": "stdout",
          "text": [
            "[[[1. 1. 1.]\n",
            "  [1. 1. 1.]]\n",
            "\n",
            " [[1. 1. 1.]\n",
            "  [1. 1. 1.]]]\n",
            "<class 'numpy.ndarray'>\n",
            "(2, 2, 3)\n"
          ]
        }
      ]
    },
    {
      "cell_type": "code",
      "source": [
        "x = np.zeros([2, 2, 3])\n",
        "#0으로 채워져있는 array를 만들어줌\n",
        "print(x)\n",
        "print(type(x))\n",
        "print(x.shape)\n",
        "x.reshape(3,2,2)"
      ],
      "metadata": {
        "id": "MP_3V8JWDqpJ",
        "outputId": "54268e81-d53c-48b7-d1e2-0324f307631d",
        "colab": {
          "base_uri": "https://localhost:8080/"
        }
      },
      "execution_count": 20,
      "outputs": [
        {
          "output_type": "stream",
          "name": "stdout",
          "text": [
            "[[[0. 0. 0.]\n",
            "  [0. 0. 0.]]\n",
            "\n",
            " [[0. 0. 0.]\n",
            "  [0. 0. 0.]]]\n",
            "<class 'numpy.ndarray'>\n",
            "(2, 2, 3)\n"
          ]
        },
        {
          "output_type": "execute_result",
          "data": {
            "text/plain": [
              "array([[[0., 0.],\n",
              "        [0., 0.]],\n",
              "\n",
              "       [[0., 0.],\n",
              "        [0., 0.]],\n",
              "\n",
              "       [[0., 0.],\n",
              "        [0., 0.]]])"
            ]
          },
          "metadata": {},
          "execution_count": 20
        }
      ]
    },
    {
      "cell_type": "markdown",
      "source": [
        "create random numbers"
      ],
      "metadata": {
        "id": "_JOL0DfvD5jJ"
      }
    },
    {
      "cell_type": "code",
      "source": [
        "np.random.normal(0, 1, [2,3,4])\n",
        "#normal distribution의 nd array를 만들어줌--> 3d array\n",
        "#(mean,s.d, 구조)"
      ],
      "metadata": {
        "id": "T4dXyO3mDqmv",
        "outputId": "19fea7cc-cac4-42ad-b3bb-d6e2a6f14aff",
        "colab": {
          "base_uri": "https://localhost:8080/"
        }
      },
      "execution_count": null,
      "outputs": [
        {
          "output_type": "execute_result",
          "data": {
            "text/plain": [
              "array([[[-0.17624795,  0.34632332,  1.10523381,  0.13566952],\n",
              "        [-0.07210244,  0.00640333, -0.86609777, -0.84953905],\n",
              "        [-0.65232828,  0.34456728, -1.09594475, -0.59841256]],\n",
              "\n",
              "       [[-1.37803089, -0.0761162 ,  0.60831039,  0.42208686],\n",
              "        [-1.84075146,  0.59962821,  0.26207181,  1.01903958],\n",
              "        [-0.20435809, -1.34869674,  0.48779455,  0.24579095]]])"
            ]
          },
          "metadata": {},
          "execution_count": 4
        }
      ]
    },
    {
      "cell_type": "code",
      "source": [
        "import matplotlib.pyplot as plt"
      ],
      "metadata": {
        "id": "NggjPQ2dDqid"
      },
      "execution_count": 19,
      "outputs": []
    },
    {
      "cell_type": "code",
      "source": [
        "x = np.random.normal(0, 1, 100)\n",
        "#normal distribution 만듦 (mean, s.d, random number 갯수)\n",
        "#100을 1d array구조라고 볼 수도 있음\n",
        "print(x)\n",
        "plt.hist(x, bins=10)\n",
        "#x는 nd array, bins는 통의 갯수"
      ],
      "metadata": {
        "id": "mvzQ_HWCDqf2",
        "outputId": "9414b358-8402-4a7e-b5f1-07d0991153eb",
        "colab": {
          "base_uri": "https://localhost:8080/",
          "height": 658
        }
      },
      "execution_count": 21,
      "outputs": [
        {
          "output_type": "stream",
          "name": "stdout",
          "text": [
            "[-1.69130192  1.34979955 -0.00412596  1.04172481  0.98370338  0.28907164\n",
            " -1.43495599 -2.38181822 -1.61646593 -1.10757769 -0.37531109  0.13142671\n",
            "  0.71362428  0.16256202  0.93953601 -0.24770781 -3.31808145 -1.40789622\n",
            "  0.70305737 -1.90820799 -2.04885634 -0.62670306  0.22419852  0.58428901\n",
            "  1.0382857   1.23559902  0.45699978  1.60876389 -0.35932623 -1.552568\n",
            " -0.44769529 -0.33878665 -2.08745235 -1.41707341  0.0468907  -1.79695797\n",
            " -2.03444062  0.50060468 -0.88584748  0.00630327 -0.32451624 -1.22593301\n",
            "  1.80671626 -0.74729565  1.66131323 -0.7877047   1.92813843  1.42381187\n",
            "  0.0065433   0.42511638  0.01247471  0.16451644 -1.28831829  1.17449537\n",
            "  0.41350424 -1.01279292 -1.52320333  2.03892624 -0.43205497 -0.63299434\n",
            " -1.78350715 -0.83252918  0.21413844 -0.62083679 -1.17101389 -0.8890425\n",
            "  0.17346919 -0.698065   -0.4149978  -1.19160552 -0.38989473  2.34883262\n",
            " -0.08434102  0.45772789  0.70248101 -0.54883927  0.73484581  0.29962558\n",
            " -0.68421206 -0.60206852  0.7656847   0.31106221 -0.15061362 -0.33189434\n",
            " -0.83785479  0.86482124  1.11385763 -0.65005684 -0.21246148  0.94226865\n",
            "  0.14593399 -0.99263752  0.61842997  0.8006636   0.18033365  2.39166431\n",
            " -0.55275857 -1.85181669  0.65371815  0.5330762 ]\n"
          ]
        },
        {
          "output_type": "execute_result",
          "data": {
            "text/plain": [
              "(array([ 1.,  1.,  9., 10., 17., 18., 20., 15.,  5.,  4.]),\n",
              " array([-3.31808145, -2.74710687, -2.17613229, -1.60515772, -1.03418314,\n",
              "        -0.46320857,  0.10776601,  0.67874059,  1.24971516,  1.82068974,\n",
              "         2.39166431]),\n",
              " <a list of 10 Patch objects>)"
            ]
          },
          "metadata": {},
          "execution_count": 21
        },
        {
          "output_type": "display_data",
          "data": {
            "text/plain": [
              "<Figure size 432x288 with 1 Axes>"
            ],
            "image/png": "[encoded data removed]"
          },
          "metadata": {
            "needs_background": "light"
          }
        }
      ]
    },
    {
      "cell_type": "markdown",
      "source": [
        "generate a sine curve"
      ],
      "metadata": {
        "id": "4w1KbS8IEBo3"
      }
    },
    {
      "cell_type": "code",
      "source": [
        "plt.figure()\n",
        "#figure라는 틀을 잡아주는 함수\n",
        "\n",
        "theta1 = np.linspace(0, 2*np.pi, 100)\n",
        "#등간격으로 0부터 2pi까지 100개의 숫자를 만들어라\n",
        "#np.pi=pi는 radian 값-->numpy안에 들어있음\n",
        "#pi=180\n",
        "#0부터 360까지\n",
        "#시험문제 theta1의 갯수는?-->100개, s1의 갯수는-->100개\n",
        "#입력이 100개라서 출력도 100개\n",
        "s1 = np.sin(theta1)\n",
        "#0부터 360까지 해당하는 값\n",
        "#sin 함수에는 radian 값이 들어감\n",
        "theta2 = np.linspace(0, 2*np.pi, 100) + np.pi/2\n",
        "#90에서 450까지\n",
        "#np.pi/2 = 90\n",
        "s2 = np.sin(theta2)\n",
        "\n",
        "plt.subplot(2, 1, 1) # (rows, columns, panel number)\n",
        "#2줄, 세로 1줄, 그중에서 첫번째꺼에\n",
        "plt.plot(theta1, s1, '.')\n",
        "#(x,y,x와 y를 ''으로 표시해라)\n",
        "#(theta1을 입력으로 s1을 출력으로 만든것을 .으로 표시해라)\n",
        "plt.subplot(2, 1, 2) # (rows, columns, panel number)\n",
        "plt.plot(theta2, s2, '.')\n",
        "#(90부터 시작해서 450까지)"
      ],
      "metadata": {
        "id": "C0BTGECTECGB",
        "outputId": "13527f93-ce04-4784-fa5c-0394524d570f",
        "colab": {
          "base_uri": "https://localhost:8080/",
          "height": 283
        }
      },
      "execution_count": 23,
      "outputs": [
        {
          "output_type": "execute_result",
          "data": {
            "text/plain": [
              "[<matplotlib.lines.Line2D at 0x7f59b42fa890>]"
            ]
          },
          "metadata": {},
          "execution_count": 23
        },
        {
          "output_type": "display_data",
          "data": {
            "text/plain": [
              "<Figure size 432x288 with 2 Axes>"
            ],
            "image/png": "[encoded data removed]"
          },
          "metadata": {
            "needs_background": "light"
          }
        }
      ]
    },
    {
      "cell_type": "code",
      "source": [
        "np.corrcoef(s1,s2)\n",
        "#correlation -1<=r<=1\n",
        "#r이 +면 정비례 -면 반비례\n",
        "#서로 상관관계가 높으면 r의 절댓값이 1에 가까워짐\n",
        "#s1, s2는 y축에 해당하는 값-->correlation은 0\n",
        "#e -17승= 10에 -17=0"
      ],
      "metadata": {
        "id": "C0BOKyTGECKv",
        "outputId": "44173931-9a0b-4a23-b92c-cae34235150f",
        "colab": {
          "base_uri": "https://localhost:8080/"
        }
      },
      "execution_count": 24,
      "outputs": [
        {
          "output_type": "execute_result",
          "data": {
            "text/plain": [
              "array([[1.00000000e+00, 2.41915449e-17],\n",
              "       [2.41915449e-17, 1.00000000e+00]])"
            ]
          },
          "metadata": {},
          "execution_count": 24
        }
      ]
    },
    {
      "cell_type": "code",
      "source": [
        ""
      ],
      "metadata": {
        "id": "-grz5CvwECIq"
      },
      "execution_count": null,
      "outputs": []
    },
    {
      "cell_type": "code",
      "source": [
        ""
      ],
      "metadata": {
        "id": "rBzHU7lk6dsw"
      },
      "execution_count": null,
      "outputs": []
    }
  ]
}