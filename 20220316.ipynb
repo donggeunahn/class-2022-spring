{
  "nbformat": 4,
  "nbformat_minor": 0,
  "metadata": {
    "colab": {
      "name": "2022 0316.ipynb",
      "provenance": [],
      "authorship_tag": "ABX9TyMdrg7XZU/QNC08BWeMJKmc",
      "include_colab_link": true
    },
    "kernelspec": {
      "name": "python3",
      "display_name": "Python 3"
    },
    "language_info": {
      "name": "python"
    }
  },
  "cells": [
    {
      "cell_type": "markdown",
      "metadata": {
        "id": "view-in-github",
        "colab_type": "text"
      },
      "source": [
        "<a href=\"https://colab.research.google.com/github/donggeunahn/class-2022-spring/blob/main/20220316.ipynb\" target=\"_parent\"><img src=\"https://colab.research.google.com/assets/colab-badge.svg\" alt=\"Open In Colab\"/></a>"
      ]
    },
    {
      "cell_type": "code",
      "execution_count": null,
      "metadata": {
        "id": "lIfI270K-v_R"
      },
      "outputs": [],
      "source": [
        "import numpy as np\n",
        "import matplotlib.pyplot as plt\n",
        "import IPython.display as ipd"
      ]
    },
    {
      "cell_type": "markdown",
      "source": [
        "numpy, matplotlib.pyplot, ipd를 import하여 np, plt,ipd로 명명한다"
      ],
      "metadata": {
        "id": "b-QYyBA46YxH"
      }
    },
    {
      "cell_type": "code",
      "source": [
        "import numpy as np\n",
        "#numpy를 import하고 np라고 명명한다\n",
        "#numpy라는 패키지는 난수를 generate, 행렬을 만들거나 통계처리를 할때 사용된다.\n",
        "#AI와 데이터 사이언스의 가장 중요한 패키지\n",
        "n = np.random.randn(100)\n",
        "#100개의 random number를 만들고 n이라는 variable이라고 한다\n",
        "#numpy 안의 random이라는 디렉토리에서 randn이라는 함수\n",
        "#randn은 난수를 만들어주는 함수\n",
        "#평균이 0 s.d가 1인 난수를 구해줌"
      ],
      "metadata": {
        "id": "UkC46NuM6bA7"
      },
      "execution_count": null,
      "outputs": []
    },
    {
      "cell_type": "code",
      "source": [
        "import matplotlib\n",
        "#matplotlib를 import한다\n",
        "matplotlib.pyplot.hist(n)\n",
        "#matplotlib 안의 pyplot이라는 디렉토리에서 hist라는 함수에 n을 넣은 값\n",
        "#hist(n)은 n을 히스토그램으로 표현하라는 뜻\n",
        "#히스토그램은 x축에 숫자 y축에 횟수를 표현한 그래프"
      ],
      "metadata": {
        "id": "Jl-kmkBX6buj"
      },
      "execution_count": null,
      "outputs": []
    },
    {
      "cell_type": "code",
      "source": [
        "import matplotlib.pyplot\n",
        "#하위 디렉토리까지 import한 경우\n",
        "matplotlib.pyplot.hist(n)"
      ],
      "metadata": {
        "id": "7zSI6uPd6eAV"
      },
      "execution_count": null,
      "outputs": []
    },
    {
      "cell_type": "code",
      "source": [
        "import matplotlib.pyplot as plt\n",
        "#matplotlib.pyplot을 plt로 명명\n",
        "plt.hist(n)"
      ],
      "metadata": {
        "id": "AsUW7jWw6d-A"
      },
      "execution_count": null,
      "outputs": []
    },
    {
      "cell_type": "markdown",
      "source": [
        "from import를 쓰면 import as처럼 축약해서 부를 수 있는 효과"
      ],
      "metadata": {
        "id": "26qFj_EO6nRl"
      }
    },
    {
      "cell_type": "code",
      "source": [
        "from matplotlib import pyplot\n",
        "#from 함수를 사용하고 하위디렉토리만 import\n",
        "pyplot.hist(n)\n",
        "#matplotlib를 안써도 된다는 장점"
      ],
      "metadata": {
        "id": "P6LcVOOI6d7q"
      },
      "execution_count": null,
      "outputs": []
    },
    {
      "cell_type": "code",
      "source": [
        "from matplotlib.pyplot import hist\n",
        "#함수만 import 한 경우\n",
        "hist(n)\n",
        "#hist 함수만 쓰면 되는 경우"
      ],
      "metadata": {
        "id": "JRnUSbVe6d2x"
      },
      "execution_count": null,
      "outputs": []
    },
    {
      "cell_type": "markdown",
      "source": [
        "create nd arrays (≈matrices)\n",
        "행렬이라는 뜻\n",
        "직사각형의 숫자 배열\n",
        "nd=n dimensional *이탤릭체 텍스트*"
      ],
      "metadata": {
        "id": "wi4rf-x-Dpaw"
      }
    },
    {
      "cell_type": "code",
      "source": [
        "import numpy as np\n"
      ],
      "metadata": {
        "id": "nmbbywGwDq9L"
      },
      "execution_count": 1,
      "outputs": []
    },
    {
      "cell_type": "code",
      "source": [
        "x = np.array([1,2,3])\n",
        "#list를 array로 바꿔줌\n",
        "print(x)\n",
        "print(type(x))\n",
        "#type은 numpy array에서 제공하는 특수한 변수-->nd array이다\n",
        "print(x.shape)\n",
        "#1d array라 (3,)"
      ],
      "metadata": {
        "id": "9yONU0_WDq5b",
        "outputId": "995bf9dd-3afb-42f4-e8da-6a9c7c9e3620",
        "colab": {
          "base_uri": "https://localhost:8080/"
        }
      },
      "execution_count": 2,
      "outputs": [
        {
          "output_type": "stream",
          "name": "stdout",
          "text": [
            "[1 2 3]\n",
            "<class 'numpy.ndarray'>\n",
            "(3,)\n"
          ]
        }
      ]
    },
    {
      "cell_type": "code",
      "source": [
        "x = np.arange(0,10,2)\n",
        "#arrange는 0부터 10까지(0포함 10제외) 2만큼 증가\n",
        "#0,2,4,6,8\n",
        "print(x)\n",
        "print(type(x))\n",
        "print(x.shape)\n",
        "#5개가 들어있는 1d array"
      ],
      "metadata": {
        "id": "RPDcekjgDq28"
      },
      "execution_count": null,
      "outputs": []
    },
    {
      "cell_type": "code",
      "source": [
        "x = np.linspace(0,10,6)\n",
        "#linspace는 0부터 10까지 등간격으로 총 6개 숫자를 만들어라\n",
        "#0,2,4,6,8,10\n",
        "print(x)\n",
        "print(type(x))\n",
        "print(x.shape)"
      ],
      "metadata": {
        "id": "QGTFTv_FDq0Z"
      },
      "execution_count": null,
      "outputs": []
    },
    {
      "cell_type": "code",
      "source": [
        "x = np.array([[1,2,3], [4,5,6]])\n",
        "#list를 2개 씀--> 2d array\n",
        "print(x)\n",
        "print(type(x))\n",
        "print(x.shape)\n",
        "#row는 2개 column은 3개-->(2,3)"
      ],
      "metadata": {
        "id": "RDGdyuRDDqx7"
      },
      "execution_count": null,
      "outputs": []
    },
    {
      "cell_type": "code",
      "source": [
        "x = np.array([[[1,2,3], [4,5,6]], [[7,8,9], [10,11,12]]])\n",
        "#대괄호의 갯수가 d를 나타냄--> 3d array\n",
        "#2,2,3\n",
        "print(x)\n",
        "print(type(x))\n",
        "print(x.shape)"
      ],
      "metadata": {
        "id": "L4y-iQyBDqv2",
        "outputId": "40d3d8e7-089d-405c-81d7-69a595f4bc30",
        "colab": {
          "base_uri": "https://localhost:8080/"
        }
      },
      "execution_count": 3,
      "outputs": [
        {
          "output_type": "stream",
          "name": "stdout",
          "text": [
            "[[[ 1  2  3]\n",
            "  [ 4  5  6]]\n",
            "\n",
            " [[ 7  8  9]\n",
            "  [10 11 12]]]\n",
            "<class 'numpy.ndarray'>\n",
            "(2, 2, 3)\n"
          ]
        }
      ]
    },
    {
      "cell_type": "code",
      "source": [
        "x = np.ones([2, 2, 3])\n",
        "#1로 채워져있는 array를 만들어줌\n",
        "print(x)\n",
        "print(type(x))\n",
        "print(x.shape)"
      ],
      "metadata": {
        "id": "rLSDNwoRDqrb"
      },
      "execution_count": null,
      "outputs": []
    },
    {
      "cell_type": "code",
      "source": [
        "x = np.zeros([2, 2, 3])\n",
        "#0으로 채워져있는 array를 만들어줌\n",
        "print(x)\n",
        "print(type(x))\n",
        "print(x.shape)\n",
        "x.reshape(3,2,2)"
      ],
      "metadata": {
        "id": "MP_3V8JWDqpJ"
      },
      "execution_count": null,
      "outputs": []
    },
    {
      "cell_type": "markdown",
      "source": [
        "create random numbers"
      ],
      "metadata": {
        "id": "_JOL0DfvD5jJ"
      }
    },
    {
      "cell_type": "code",
      "source": [
        "np.random.normal(0, 1, [2,3,4])\n",
        "#normal distribution의 nd array를 만들어줌\n",
        "#(mean,s.d, 구조)"
      ],
      "metadata": {
        "id": "T4dXyO3mDqmv",
        "outputId": "19fea7cc-cac4-42ad-b3bb-d6e2a6f14aff",
        "colab": {
          "base_uri": "https://localhost:8080/"
        }
      },
      "execution_count": 4,
      "outputs": [
        {
          "output_type": "execute_result",
          "data": {
            "text/plain": [
              "array([[[-0.17624795,  0.34632332,  1.10523381,  0.13566952],\n",
              "        [-0.07210244,  0.00640333, -0.86609777, -0.84953905],\n",
              "        [-0.65232828,  0.34456728, -1.09594475, -0.59841256]],\n",
              "\n",
              "       [[-1.37803089, -0.0761162 ,  0.60831039,  0.42208686],\n",
              "        [-1.84075146,  0.59962821,  0.26207181,  1.01903958],\n",
              "        [-0.20435809, -1.34869674,  0.48779455,  0.24579095]]])"
            ]
          },
          "metadata": {},
          "execution_count": 4
        }
      ]
    },
    {
      "cell_type": "code",
      "source": [
        "import matplotlib.pyplot as plt"
      ],
      "metadata": {
        "id": "NggjPQ2dDqid"
      },
      "execution_count": 7,
      "outputs": []
    },
    {
      "cell_type": "code",
      "source": [
        "x = np.random.normal(0, 1, 100)\n",
        "#normal distribution 만듦 (mean, s.d, random number 갯수)\n",
        "print(x)\n",
        "plt.hist(x, bins=10)\n",
        "#bins는 통의 갯수"
      ],
      "metadata": {
        "id": "mvzQ_HWCDqf2"
      },
      "execution_count": null,
      "outputs": []
    },
    {
      "cell_type": "markdown",
      "source": [
        "generate a sine curve"
      ],
      "metadata": {
        "id": "4w1KbS8IEBo3"
      }
    },
    {
      "cell_type": "code",
      "source": [
        "plt.figure()\n",
        "#figure라는 공간을 잡음\n",
        "\n",
        "theta1 = np.linspace(0, 2*np.pi, 100)\n",
        "#등간격으로 0부터 2pi까지 100개의 숫자를 만들어라\n",
        "#pi는 radian 값\n",
        "#0부터 360까지\n",
        "#시험문제 theta1의 갯수는?-->100개, s1의 갯수는-->100개\n",
        "s1 = np.sin(theta1)\n",
        "#0부터 360까지 해당하는 값\n",
        "theta2 = np.linspace(0, 2*np.pi, 100) + np.pi/2\n",
        "#90에서 450까지\n",
        "s2 = np.sin(theta2)\n",
        "\n",
        "plt.subplot(2, 1, 1) # (rows, columns, panel number)\n",
        "plt.plot(theta1, s1, '.')#(x,y,x와 y를 .으로 표시해라)\n",
        "plt.subplot(2, 1, 2) # (rows, columns, panel number)\n",
        "plt.plot(theta2, s2, '.')"
      ],
      "metadata": {
        "id": "C0BTGECTECGB",
        "outputId": "2e26792e-1e0c-4a96-ce23-47d8a3077713",
        "colab": {
          "base_uri": "https://localhost:8080/",
          "height": 283
        }
      },
      "execution_count": 10,
      "outputs": [
        {
          "output_type": "execute_result",
          "data": {
            "text/plain": [
              "[<matplotlib.lines.Line2D at 0x7f1a0e265450>]"
            ]
          },
          "metadata": {},
          "execution_count": 10
        },
        {
          "output_type": "display_data",
          "data": {
            "text/plain": [
              "<Figure size 432x288 with 2 Axes>"
            ],
            "image/png": "[encoded data removed]"
          },
          "metadata": {
            "needs_background": "light"
          }
        }
      ]
    },
    {
      "cell_type": "code",
      "source": [
        "np.corrcoef(s1,s2)\n",
        "#correlation -1<=r<=1\n",
        "#r이 +면 정비례 -면 반비례\n",
        "#서로 상관관계가 높으면 r의 절댓값이 1에 가까워짐\n",
        "#s1, s2는 y 값-->correlation은 0"
      ],
      "metadata": {
        "id": "C0BOKyTGECKv"
      },
      "execution_count": null,
      "outputs": []
    },
    {
      "cell_type": "code",
      "source": [
        ""
      ],
      "metadata": {
        "id": "-grz5CvwECIq"
      },
      "execution_count": null,
      "outputs": []
    },
    {
      "cell_type": "code",
      "source": [
        ""
      ],
      "metadata": {
        "id": "rBzHU7lk6dsw"
      },
      "execution_count": null,
      "outputs": []
    }
  ]
}