{
  "nbformat": 4,
  "nbformat_minor": 0,
  "metadata": {
    "colab": {
      "name": "20220328.ipynb",
      "provenance": [],
      "authorship_tag": "ABX9TyM4buOxOVB2o+1/x2XMGEzD",
      "include_colab_link": true
    },
    "kernelspec": {
      "name": "python3",
      "display_name": "Python 3"
    },
    "language_info": {
      "name": "python"
    }
  },
  "cells": [
    {
      "cell_type": "markdown",
      "metadata": {
        "id": "view-in-github",
        "colab_type": "text"
      },
      "source": [
        "<a href=\"https://colab.research.google.com/github/donggeunahn/class-2022-spring/blob/main/20220328.ipynb\" target=\"_parent\"><img src=\"https://colab.research.google.com/assets/colab-badge.svg\" alt=\"Open In Colab\"/></a>"
      ]
    },
    {
      "cell_type": "code",
      "execution_count": null,
      "metadata": {
        "id": "eMRvSlbqnj9G"
      },
      "outputs": [],
      "source": [
        ""
      ]
    },
    {
      "cell_type": "code",
      "source": [
        "!pip install gradio\n",
        "import gradio as gr\n",
        "import requests\n",
        "import pandas as pd"
      ],
      "metadata": {
        "id": "8eZHGJhmqd9a",
        "outputId": "226d2c06-9483-40c8-b80b-8ed83bb75ebe",
        "colab": {
          "base_uri": "https://localhost:8080/"
        }
      },
      "execution_count": 8,
      "outputs": [
        {
          "output_type": "stream",
          "name": "stdout",
          "text": [
            "Collecting gradio\n",
            "  Downloading gradio-2.9.1-py3-none-any.whl (1.7 MB)\n",
            "\u001b[K     |████████████████████████████████| 1.7 MB 5.3 MB/s \n",
            "\u001b[?25hCollecting python-multipart\n",
            "  Downloading python-multipart-0.0.5.tar.gz (32 kB)\n",
            "Collecting markdown-it-py[linkify,plugins]\n",
            "  Downloading markdown_it_py-2.0.1-py3-none-any.whl (84 kB)\n",
            "\u001b[K     |████████████████████████████████| 84 kB 2.9 MB/s \n",
            "\u001b[?25hRequirement already satisfied: matplotlib in /usr/local/lib/python3.7/dist-packages (from gradio) (3.2.2)\n",
            "Collecting ffmpy\n",
            "  Downloading ffmpy-0.3.0.tar.gz (4.8 kB)\n",
            "Requirement already satisfied: requests in /usr/local/lib/python3.7/dist-packages (from gradio) (2.23.0)\n",
            "Collecting analytics-python\n",
            "  Downloading analytics_python-1.4.0-py2.py3-none-any.whl (15 kB)\n",
            "Requirement already satisfied: pandas in /usr/local/lib/python3.7/dist-packages (from gradio) (1.3.5)\n",
            "Collecting pycryptodome\n",
            "  Downloading pycryptodome-3.14.1-cp35-abi3-manylinux2010_x86_64.whl (2.0 MB)\n",
            "\u001b[K     |████████████████████████████████| 2.0 MB 37.7 MB/s \n",
            "\u001b[?25hCollecting orjson\n",
            "  Downloading orjson-3.6.7-cp37-cp37m-manylinux_2_24_x86_64.whl (255 kB)\n",
            "\u001b[K     |████████████████████████████████| 255 kB 59.9 MB/s \n",
            "\u001b[?25hCollecting uvicorn\n",
            "  Downloading uvicorn-0.17.6-py3-none-any.whl (53 kB)\n",
            "\u001b[K     |████████████████████████████████| 53 kB 2.2 MB/s \n",
            "\u001b[?25hCollecting fastapi\n",
            "  Downloading fastapi-0.75.1-py3-none-any.whl (54 kB)\n",
            "\u001b[K     |████████████████████████████████| 54 kB 3.1 MB/s \n",
            "\u001b[?25hRequirement already satisfied: pillow in /usr/local/lib/python3.7/dist-packages (from gradio) (7.1.2)\n",
            "Collecting pydub\n",
            "  Downloading pydub-0.25.1-py2.py3-none-any.whl (32 kB)\n",
            "Collecting aiohttp\n",
            "  Downloading aiohttp-3.8.1-cp37-cp37m-manylinux_2_5_x86_64.manylinux1_x86_64.manylinux_2_12_x86_64.manylinux2010_x86_64.whl (1.1 MB)\n",
            "\u001b[K     |████████████████████████████████| 1.1 MB 60.3 MB/s \n",
            "\u001b[?25hCollecting paramiko\n",
            "  Downloading paramiko-2.10.3-py2.py3-none-any.whl (211 kB)\n",
            "\u001b[K     |████████████████████████████████| 211 kB 57.8 MB/s \n",
            "\u001b[?25hRequirement already satisfied: numpy in /usr/local/lib/python3.7/dist-packages (from gradio) (1.21.5)\n",
            "Requirement already satisfied: charset-normalizer<3.0,>=2.0 in /usr/local/lib/python3.7/dist-packages (from aiohttp->gradio) (2.0.12)\n",
            "Requirement already satisfied: attrs>=17.3.0 in /usr/local/lib/python3.7/dist-packages (from aiohttp->gradio) (21.4.0)\n",
            "Collecting async-timeout<5.0,>=4.0.0a3\n",
            "  Downloading async_timeout-4.0.2-py3-none-any.whl (5.8 kB)\n",
            "Collecting frozenlist>=1.1.1\n",
            "  Downloading frozenlist-1.3.0-cp37-cp37m-manylinux_2_5_x86_64.manylinux1_x86_64.manylinux_2_17_x86_64.manylinux2014_x86_64.whl (144 kB)\n",
            "\u001b[K     |████████████████████████████████| 144 kB 53.9 MB/s \n",
            "\u001b[?25hCollecting aiosignal>=1.1.2\n",
            "  Downloading aiosignal-1.2.0-py3-none-any.whl (8.2 kB)\n",
            "Collecting asynctest==0.13.0\n",
            "  Downloading asynctest-0.13.0-py3-none-any.whl (26 kB)\n",
            "Collecting yarl<2.0,>=1.0\n",
            "  Downloading yarl-1.7.2-cp37-cp37m-manylinux_2_5_x86_64.manylinux1_x86_64.manylinux_2_12_x86_64.manylinux2010_x86_64.whl (271 kB)\n",
            "\u001b[K     |████████████████████████████████| 271 kB 48.5 MB/s \n",
            "\u001b[?25hRequirement already satisfied: typing-extensions>=3.7.4 in /usr/local/lib/python3.7/dist-packages (from aiohttp->gradio) (3.10.0.2)\n",
            "Collecting multidict<7.0,>=4.5\n",
            "  Downloading multidict-6.0.2-cp37-cp37m-manylinux_2_17_x86_64.manylinux2014_x86_64.whl (94 kB)\n",
            "\u001b[K     |████████████████████████████████| 94 kB 4.0 MB/s \n",
            "\u001b[?25hRequirement already satisfied: idna>=2.0 in /usr/local/lib/python3.7/dist-packages (from yarl<2.0,>=1.0->aiohttp->gradio) (2.10)\n",
            "Collecting backoff==1.10.0\n",
            "  Downloading backoff-1.10.0-py2.py3-none-any.whl (31 kB)\n",
            "Requirement already satisfied: python-dateutil>2.1 in /usr/local/lib/python3.7/dist-packages (from analytics-python->gradio) (2.8.2)\n",
            "Collecting monotonic>=1.5\n",
            "  Downloading monotonic-1.6-py2.py3-none-any.whl (8.2 kB)\n",
            "Requirement already satisfied: six>=1.5 in /usr/local/lib/python3.7/dist-packages (from analytics-python->gradio) (1.15.0)\n",
            "Requirement already satisfied: chardet<4,>=3.0.2 in /usr/local/lib/python3.7/dist-packages (from requests->gradio) (3.0.4)\n",
            "Requirement already satisfied: certifi>=2017.4.17 in /usr/local/lib/python3.7/dist-packages (from requests->gradio) (2021.10.8)\n",
            "Requirement already satisfied: urllib3!=1.25.0,!=1.25.1,<1.26,>=1.21.1 in /usr/local/lib/python3.7/dist-packages (from requests->gradio) (1.24.3)\n",
            "Collecting starlette==0.17.1\n",
            "  Downloading starlette-0.17.1-py3-none-any.whl (58 kB)\n",
            "\u001b[K     |████████████████████████████████| 58 kB 5.8 MB/s \n",
            "\u001b[?25hCollecting pydantic!=1.7,!=1.7.1,!=1.7.2,!=1.7.3,!=1.8,!=1.8.1,<2.0.0,>=1.6.2\n",
            "  Downloading pydantic-1.9.0-cp37-cp37m-manylinux_2_17_x86_64.manylinux2014_x86_64.whl (10.9 MB)\n",
            "\u001b[K     |████████████████████████████████| 10.9 MB 57.2 MB/s \n",
            "\u001b[?25hCollecting anyio<4,>=3.0.0\n",
            "  Downloading anyio-3.5.0-py3-none-any.whl (79 kB)\n",
            "\u001b[K     |████████████████████████████████| 79 kB 7.3 MB/s \n",
            "\u001b[?25hCollecting sniffio>=1.1\n",
            "  Downloading sniffio-1.2.0-py3-none-any.whl (10 kB)\n",
            "Collecting mdurl~=0.1\n",
            "  Downloading mdurl-0.1.0-py3-none-any.whl (11 kB)\n",
            "Collecting mdit-py-plugins\n",
            "  Downloading mdit_py_plugins-0.3.0-py3-none-any.whl (43 kB)\n",
            "\u001b[K     |████████████████████████████████| 43 kB 2.1 MB/s \n",
            "\u001b[?25hCollecting linkify-it-py~=1.0\n",
            "  Downloading linkify_it_py-1.0.3-py3-none-any.whl (19 kB)\n",
            "Collecting uc-micro-py\n",
            "  Downloading uc_micro_py-1.0.1-py3-none-any.whl (6.2 kB)\n",
            "Requirement already satisfied: pyparsing!=2.0.4,!=2.1.2,!=2.1.6,>=2.0.1 in /usr/local/lib/python3.7/dist-packages (from matplotlib->gradio) (3.0.7)\n",
            "Requirement already satisfied: kiwisolver>=1.0.1 in /usr/local/lib/python3.7/dist-packages (from matplotlib->gradio) (1.4.0)\n",
            "Requirement already satisfied: cycler>=0.10 in /usr/local/lib/python3.7/dist-packages (from matplotlib->gradio) (0.11.0)\n",
            "Requirement already satisfied: pytz>=2017.3 in /usr/local/lib/python3.7/dist-packages (from pandas->gradio) (2018.9)\n",
            "Collecting pynacl>=1.0.1\n",
            "  Downloading PyNaCl-1.5.0-cp36-abi3-manylinux_2_17_x86_64.manylinux2014_x86_64.manylinux_2_24_x86_64.whl (856 kB)\n",
            "\u001b[K     |████████████████████████████████| 856 kB 48.3 MB/s \n",
            "\u001b[?25hCollecting cryptography>=2.5\n",
            "  Downloading cryptography-36.0.2-cp36-abi3-manylinux_2_24_x86_64.whl (3.6 MB)\n",
            "\u001b[K     |████████████████████████████████| 3.6 MB 37.5 MB/s \n",
            "\u001b[?25hCollecting bcrypt>=3.1.3\n",
            "  Downloading bcrypt-3.2.0-cp36-abi3-manylinux_2_17_x86_64.manylinux2014_x86_64.manylinux_2_24_x86_64.whl (61 kB)\n",
            "\u001b[K     |████████████████████████████████| 61 kB 546 kB/s \n",
            "\u001b[?25hRequirement already satisfied: cffi>=1.1 in /usr/local/lib/python3.7/dist-packages (from bcrypt>=3.1.3->paramiko->gradio) (1.15.0)\n",
            "Requirement already satisfied: pycparser in /usr/local/lib/python3.7/dist-packages (from cffi>=1.1->bcrypt>=3.1.3->paramiko->gradio) (2.21)\n",
            "Collecting h11>=0.8\n",
            "  Downloading h11-0.13.0-py3-none-any.whl (58 kB)\n",
            "\u001b[K     |████████████████████████████████| 58 kB 6.3 MB/s \n",
            "\u001b[?25hRequirement already satisfied: click>=7.0 in /usr/local/lib/python3.7/dist-packages (from uvicorn->gradio) (7.1.2)\n",
            "Collecting asgiref>=3.4.0\n",
            "  Downloading asgiref-3.5.0-py3-none-any.whl (22 kB)\n",
            "Building wheels for collected packages: ffmpy, python-multipart\n",
            "  Building wheel for ffmpy (setup.py) ... \u001b[?25l\u001b[?25hdone\n",
            "  Created wheel for ffmpy: filename=ffmpy-0.3.0-py3-none-any.whl size=4712 sha256=feea06952a7d579841ac69cd264a1de0656a8d615bba55d2c8d76cd0cb00e246\n",
            "  Stored in directory: /root/.cache/pip/wheels/13/e4/6c/e8059816e86796a597c6e6b0d4c880630f51a1fcfa0befd5e6\n",
            "  Building wheel for python-multipart (setup.py) ... \u001b[?25l\u001b[?25hdone\n",
            "  Created wheel for python-multipart: filename=python_multipart-0.0.5-py3-none-any.whl size=31678 sha256=e6d1c07448d77bad16eb3778555e99c9715fedfe543619de94b4b91da035cc3b\n",
            "  Stored in directory: /root/.cache/pip/wheels/2c/41/7c/bfd1c180534ffdcc0972f78c5758f89881602175d48a8bcd2c\n",
            "Successfully built ffmpy python-multipart\n",
            "Installing collected packages: sniffio, mdurl, uc-micro-py, multidict, markdown-it-py, frozenlist, anyio, yarl, starlette, pynacl, pydantic, monotonic, mdit-py-plugins, linkify-it-py, h11, cryptography, bcrypt, backoff, asynctest, async-timeout, asgiref, aiosignal, uvicorn, python-multipart, pydub, pycryptodome, paramiko, orjson, ffmpy, fastapi, analytics-python, aiohttp, gradio\n",
            "Successfully installed aiohttp-3.8.1 aiosignal-1.2.0 analytics-python-1.4.0 anyio-3.5.0 asgiref-3.5.0 async-timeout-4.0.2 asynctest-0.13.0 backoff-1.10.0 bcrypt-3.2.0 cryptography-36.0.2 fastapi-0.75.1 ffmpy-0.3.0 frozenlist-1.3.0 gradio-2.9.1 h11-0.13.0 linkify-it-py-1.0.3 markdown-it-py-2.0.1 mdit-py-plugins-0.3.0 mdurl-0.1.0 monotonic-1.6 multidict-6.0.2 orjson-3.6.7 paramiko-2.10.3 pycryptodome-3.14.1 pydantic-1.9.0 pydub-0.25.1 pynacl-1.5.0 python-multipart-0.0.5 sniffio-1.2.0 starlette-0.17.1 uc-micro-py-1.0.1 uvicorn-0.17.6 yarl-1.7.2\n"
          ]
        }
      ]
    },
    {
      "cell_type": "code",
      "source": [
        "URL = ('http://apis.data.go.kr/B552061/lgStat/getRestLgStat?ServiceKey=nx3IshCSM91IvFfqKKs9dkSTux4l6vcJsUCrUuaGdCbSaIYsGgiBMhQ1ighTZL0WmoErNEqsVzgMU2UQEJGhpw%3D%3D&searchYearCd=2019&siDo=1100&guGun=1116&numOfRows=13&pageNo=1&type=json')\n",
        "response = requests.get(URL)\n",
        "\n"
      ],
      "metadata": {
        "id": "lHHEwqpyJF7r"
      },
      "execution_count": null,
      "outputs": []
    },
    {
      "cell_type": "code",
      "source": [
        "response"
      ],
      "metadata": {
        "id": "7S8dOWks14cj",
        "outputId": "7156518b-8157-4d40-e8d1-ee061adbc2f8",
        "colab": {
          "base_uri": "https://localhost:8080/"
        }
      },
      "execution_count": null,
      "outputs": [
        {
          "output_type": "execute_result",
          "data": {
            "text/plain": [
              "<Response [200]>"
            ]
          },
          "metadata": {},
          "execution_count": 3
        }
      ]
    },
    {
      "cell_type": "code",
      "source": [
        "response.text"
      ],
      "metadata": {
        "id": "JjNGjFg2jT8T",
        "outputId": "c02f2aaf-ce0d-4612-ddcd-e504b6448a9e",
        "colab": {
          "base_uri": "https://localhost:8080/",
          "height": 122
        }
      },
      "execution_count": null,
      "outputs": [
        {
          "output_type": "execute_result",
          "data": {
            "text/plain": [
              "'{\"resultCode\":\"00\",\"resultMsg\":\"NORMAL_CODE\",\"items\":{\"item\":[{\"std_year\":\"2019\",\"sido_sgg_nm\":\"서울특별시 강남구\",\"acc_cl_nm\":\"전체사고\",\"acc_cnt\":\"3722\",\"acc_cnt_cmrt\":\"1.62\",\"dth_dnv_cnt\":\"14\",\"dth_dnv_cnt_cmrt\":\"0.42\",\"ftlt_rate\":\"0.38\",\"injpsn_cnt\":\"5182\",\"injpsn_cnt_cmrt\":\"1.52\",\"tot_acc_cnt\":\"229600\",\"tot_dth_dnv_cnt\":\"3349\",\"tot_injpsn_cnt\":\"341712\",\"pop_100k\":\"675.81\",\"car_10k\":\"147.41\",\"cnt_027_01\":\"13\",\"cnt_027_02\":\"76\",\"cnt_027_03\":\"330\",\"cnt_027_04\":\"515\",\"cnt_027_05\":\"2150\",\"cnt_027_06\":\"154\",\"cnt_027_07\":\"125\",\"cnt_027_99\":\"359\",\"cnt_014_01\":\"825\",\"cnt_014_02\":\"2832\",\"cnt_014_03\":\"65\",\"cnt_014_04\":\"0\"},{\"std_year\":\"2019\",\"sido_sgg_nm\":\"서울특별시 강남구\",\"acc_cl_nm\":\"어린이사고\",\"acc_cnt\":\"107\",\"acc_cnt_cmrt\":\"0.97\",\"dth_dnv_cnt\":\"0\",\"dth_dnv_cnt_cmrt\":\"0.00\",\"ftlt_rate\":\"0.00\",\"injpsn_cnt\":\"126\",\"injpsn_cnt_cmrt\":\"0.89\",\"tot_acc_cnt\":\"11054\",\"tot_dth_dnv_cnt\":\"28\",\"tot_injpsn_cnt\":\"14115\"},{\"std_year\":\"2019\",\"sido_sgg_nm\":\"서울특별시 강남구\",\"acc_cl_nm\":\"고령자사고\",\"acc_cnt\":\"352\",\"acc_cnt_cmrt\":\"0.87\",\"dth_dnv_cnt\":\"6\",\"dth_dnv_cnt_cmrt\":\"0.39\",\"ftlt_rate\":\"1.70\",\"injpsn_cnt\":\"366\",\"injpsn_cnt_cmrt\":\"0.82\",\"tot_acc_cnt\":\"40645\",\"tot_dth_dnv_cnt\":\"1523\",\"tot_injpsn_cnt\":\"44390\"},{\"std_year\":\"2019\",\"sido_sgg_nm\":\"서울특별시 강남구\",\"acc_cl_nm\":\"보행자사고\",\"acc_cnt\":\"839\",\"acc_cnt_cmrt\":\"1.80\",\"dth_dnv_cnt\":\"8\",\"dth_dnv_cnt_cmrt\":\"0.61\",\"ftlt_rate\":\"0.95\",\"injpsn_cnt\":\"863\",\"injpsn_cnt_cmrt\":\"1.83\",\"tot_acc_cnt\":\"46682\",\"tot_dth_dnv_cnt\":\"1302\",\"tot_injpsn_cnt\":\"47200\"},{\"std_year\":\"2019\",\"sido_sgg_nm\":\"서울특별시 강남구\",\"acc_cl_nm\":\"자전거사고\",\"acc_cnt\":\"60\",\"acc_cnt_cmrt\":\"1.07\",\"dth_dnv_cnt\":\"0\",\"dth_dnv_cnt_cmrt\":\"0.00\",\"ftlt_rate\":\"0.00\",\"injpsn_cnt\":\"70\",\"injpsn_cnt_cmrt\":\"1.16\",\"tot_acc_cnt\":\"5633\",\"tot_dth_dnv_cnt\":\"79\",\"tot_injpsn_cnt\":\"6020\"},{\"std_year\":\"2019\",\"sido_sgg_nm\":\"서울특별시 강남구\",\"acc_cl_nm\":\"야간사고\",\"acc_cnt\":\"1688\",\"acc_cnt_cmrt\":\"1.85\",\"dth_dnv_cnt\":\"10\",\"dth_dnv_cnt_cmrt\":\"0.63\",\"ftlt_rate\":\"0.59\",\"injpsn_cnt\":\"2421\",\"injpsn_cnt_cmrt\":\"1.80\",\"tot_acc_cnt\":\"91067\",\"tot_dth_dnv_cnt\":\"1599\",\"tot_injpsn_cnt\":\"134686\"},{\"std_year\":\"2019\",\"sido_sgg_nm\":\"서울특별시 강남구\",\"acc_cl_nm\":\"어린이보행사고\",\"acc_cnt\":\"44\",\"acc_cnt_cmrt\":\"1.14\",\"dth_dnv_cnt\":\"0\",\"dth_dnv_cnt_cmrt\":\"0.00\",\"ftlt_rate\":\"0.00\",\"injpsn_cnt\":\"44\",\"injpsn_cnt_cmrt\":\"1.12\",\"tot_acc_cnt\":\"3856\",\"tot_dth_dnv_cnt\":\"20\",\"tot_injpsn_cnt\":\"3942\"},{\"std_year\":\"2019\",\"sido_sgg_nm\":\"서울특별시 강남구\",\"acc_cl_nm\":\"스쿨존내어린이사고\",\"acc_cnt\":\"6\",\"acc_cnt_cmrt\":\"1.06\",\"dth_dnv_cnt\":\"0\",\"dth_dnv_cnt_cmrt\":\"0.00\",\"ftlt_rate\":\"0.00\",\"injpsn_cnt\":\"6\",\"injpsn_cnt_cmrt\":\"1.02\",\"tot_acc_cnt\":\"567\",\"tot_dth_dnv_cnt\":\"6\",\"tot_injpsn_cnt\":\"589\"},{\"std_year\":\"2019\",\"sido_sgg_nm\":\"서울특별시 강남구\",\"acc_cl_nm\":\"고령운전자사고\",\"acc_cnt\":\"457\",\"acc_cnt_cmrt\":\"1.37\",\"dth_dnv_cnt\":\"2\",\"dth_dnv_cnt_cmrt\":\"0.26\",\"ftlt_rate\":\"0.44\",\"injpsn_cnt\":\"613\",\"injpsn_cnt_cmrt\":\"1.27\",\"tot_acc_cnt\":\"33239\",\"tot_dth_dnv_cnt\":\"769\",\"tot_injpsn_cnt\":\"48223\"},{\"std_year\":\"2019\",\"sido_sgg_nm\":\"서울특별시 강남구\",\"acc_cl_nm\":\"고령보행자사고\",\"acc_cnt\":\"91\",\"acc_cnt_cmrt\":\"0.74\",\"dth_dnv_cnt\":\"5\",\"dth_dnv_cnt_cmrt\":\"0.67\",\"ftlt_rate\":\"5.49\",\"injpsn_cnt\":\"87\",\"injpsn_cnt_cmrt\":\"0.75\",\"tot_acc_cnt\":\"12249\",\"tot_dth_dnv_cnt\":\"743\",\"tot_injpsn_cnt\":\"11653\"},{\"std_year\":\"2019\",\"sido_sgg_nm\":\"서울특별시 강남구\",\"acc_cl_nm\":\"개인이동수단(PM)사고\",\"acc_cnt\":\"36\",\"acc_cnt_cmrt\":\"8.05\",\"dth_dnv_cnt\":\"0\",\"dth_dnv_cnt_cmrt\":\"0.00\",\"ftlt_rate\":\"0.00\",\"injpsn_cnt\":\"38\",\"injpsn_cnt_cmrt\":\"8.03\",\"tot_acc_cnt\":\"447\",\"tot_dth_dnv_cnt\":\"8\",\"tot_injpsn_cnt\":\"473\"},{\"std_year\":\"2019\",\"sido_sgg_nm\":\"서울특별시 강남구\",\"acc_cl_nm\":\"뺑소니사고\",\"acc_cnt\":\"65\",\"acc_cnt_cmrt\":\"0.91\",\"dth_dnv_cnt\":\"0\",\"dth_dnv_cnt_cmrt\":\"0.00\",\"ftlt_rate\":\"0.00\",\"injpsn_cnt\":\"107\",\"injpsn_cnt_cmrt\":\"1.04\",\"tot_acc_cnt\":\"7129\",\"tot_dth_dnv_cnt\":\"90\",\"tot_injpsn_cnt\":\"10285\"},{\"std_year\":\"2019\",\"sido_sgg_nm\":\"서울특별시 강남구\",\"acc_cl_nm\":\"무면허사고\",\"acc_cnt\":\"66\",\"acc_cnt_cmrt\":\"1.27\",\"dth_dnv_cnt\":\"0\",\"dth_dnv_cnt_cmrt\":\"0.00\",\"ftlt_rate\":\"0.00\",\"injpsn_cnt\":\"87\",\"injpsn_cnt_cmrt\":\"1.17\",\"tot_acc_cnt\":\"5177\",\"tot_dth_dnv_cnt\":\"163\",\"tot_injpsn_cnt\":\"7445\"}]},\"totalCount\":13,\"numOfRows\":13,\"pageNo\":1}'"
            ],
            "application/vnd.google.colaboratory.intrinsic+json": {
              "type": "string"
            }
          },
          "metadata": {},
          "execution_count": 4
        }
      ]
    },
    {
      "cell_type": "code",
      "source": [
        "r = response.json()\n",
        "r"
      ],
      "metadata": {
        "id": "JcLKwg0foR9p"
      },
      "execution_count": null,
      "outputs": []
    },
    {
      "cell_type": "code",
      "source": [
        "def test(siDo):\n",
        "  URL = ('http://apis.data.go.kr/B552061/lgStat/getRestLgStat?ServiceKey=nx3IshCSM91IvFfqKKs9dkSTux4l6vcJsUCrUuaGdCbSaIYsGgiBMhQ1ighTZL0WmoErNEqsVzgMU2UQEJGhpw%3D%3D&searchYearCd=2020'\n",
        "  '&siDo='+siDo+\n",
        "  '&numOfRows=13&pageNo=1&type=json&guGun=')\n",
        "  \n",
        "  response = requests.get(URL)\n",
        "  r = response.json()\n",
        "  items = r['items']['item']\n",
        "\n",
        "  sido_sgg_nm = [item['sido_sgg_nm'] for item in items]\n",
        "  acc_cnt = [item['acc_cnt'] for item in items]\n",
        "  injpsn_cnt = [item['injpsn_cnt'] for item in items]\n",
        "  dth_dnv_cnt = [item['dth_dnv_cnt'] for item in items]\n",
        "\n",
        "  \n",
        "\n",
        "  sido_sgg_nm = pd.Series(sido_sgg_nm)\n",
        "  acc_cnt = pd.Series(acc_cnt)\n",
        "  injpsn_cnt = pd.Series(injpsn_cnt) \n",
        "  dth_dnv_cnt = pd.Series(dth_dnv_cnt)\n",
        "  \n",
        " \n",
        "\n",
        "  df = pd.DataFrame({ '도시이름': sido_sgg_nm, '사고건수': acc_cnt, '부상자 수':injpsn_cnt,'사망자 수':dth_dnv_cnt})\n",
        "  return df\n"
      ],
      "metadata": {
        "id": "3OegfOp4lYPV"
      },
      "execution_count": 18,
      "outputs": []
    },
    {
      "cell_type": "code",
      "source": [
        ""
      ],
      "metadata": {
        "id": "7tIchLc2oAHi"
      },
      "execution_count": null,
      "outputs": []
    },
    {
      "cell_type": "code",
      "source": [
        "iface = gr.Interface(test, gr.inputs.Dropdown(['1100','1200','2200','2300','2400','2500','2600','2700','1300','1400','1500','1600','1700','1800','1900','2000','2100']), outputs=['dataframe'])\n",
        "iface.launch(debug=True)"
      ],
      "metadata": {
        "id": "t0dIvn-fnApj",
        "outputId": "c9f43431-b6cc-45f6-ab02-ab2ceeaf8d10",
        "colab": {
          "base_uri": "https://localhost:8080/",
          "height": 660
        }
      },
      "execution_count": 19,
      "outputs": [
        {
          "output_type": "stream",
          "name": "stdout",
          "text": [
            "Colab notebook detected. This cell will run indefinitely so that you can see errors and logs. To turn off, set debug=False in launch().\n",
            "Running on public URL: https://33959.gradio.app\n",
            "\n",
            "This share link expires in 72 hours. For free permanent hosting, check out Spaces (https://huggingface.co/spaces)\n"
          ]
        },
        {
          "output_type": "display_data",
          "data": {
            "text/plain": [
              "<IPython.lib.display.IFrame at 0x7f96ad129b90>"
            ],
            "text/html": [
              "\n",
              "        <iframe\n",
              "            width=\"900\"\n",
              "            height=\"500\"\n",
              "            src=\"https://33959.gradio.app\"\n",
              "            frameborder=\"0\"\n",
              "            allowfullscreen\n",
              "        ></iframe>\n",
              "        "
            ]
          },
          "metadata": {}
        },
        {
          "output_type": "stream",
          "name": "stdout",
          "text": [
            "Keyboard interruption in main thread... closing server.\n"
          ]
        },
        {
          "output_type": "execute_result",
          "data": {
            "text/plain": [
              "(<fastapi.applications.FastAPI at 0x7f96b6df9050>,\n",
              " 'http://127.0.0.1:7860/',\n",
              " 'https://33959.gradio.app')"
            ]
          },
          "metadata": {},
          "execution_count": 19
        }
      ]
    }
  ]
}