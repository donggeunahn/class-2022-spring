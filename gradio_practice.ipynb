{
  "nbformat": 4,
  "nbformat_minor": 0,
  "metadata": {
    "colab": {
      "name": "gradio_practice.ipynb",
      "provenance": [],
      "include_colab_link": true
    },
    "kernelspec": {
      "name": "python3",
      "display_name": "Python 3"
    },
    "language_info": {
      "name": "python"
    }
  },
  "cells": [
    {
      "cell_type": "markdown",
      "metadata": {
        "id": "view-in-github",
        "colab_type": "text"
      },
      "source": [
        "<a href=\"https://colab.research.google.com/github/donggeunahn/class-2022-spring/blob/main/gradio_practice.ipynb\" target=\"_parent\"><img src=\"https://colab.research.google.com/assets/colab-badge.svg\" alt=\"Open In Colab\"/></a>"
      ]
    },
    {
      "cell_type": "code",
      "execution_count": 1,
      "metadata": {
        "id": "ZhrL6xVSQ9bS"
      },
      "outputs": [],
      "source": [
        "def sum(a, b):\n",
        "#함수를 만드는 법 def\n",
        "#a,b는 입력 변수\n",
        "  c = int(a + b) \n",
        "  \n",
        "  c = '정답은 ' + str(c) + '입니다'\n",
        "  #str은 문자열로 바꿔주는것\n",
        "  return c"
      ]
    },
    {
      "cell_type": "code",
      "source": [
        "sum(2,3)"
      ],
      "metadata": {
        "id": "1HIgbjYWSBNX",
        "colab": {
          "base_uri": "https://localhost:8080/",
          "height": 36
        },
        "outputId": "8cfcfc84-2cc7-4a2d-f3d9-41bc8ff64bcd"
      },
      "execution_count": 2,
      "outputs": [
        {
          "output_type": "execute_result",
          "data": {
            "text/plain": [
              "'정답은 5입니다'"
            ],
            "application/vnd.google.colaboratory.intrinsic+json": {
              "type": "string"
            }
          },
          "metadata": {},
          "execution_count": 2
        }
      ]
    },
    {
      "cell_type": "code",
      "source": [
        "!pip install gradio\n",
        "#gradio는 다운을 받아야 함"
      ],
      "metadata": {
        "id": "sfMdWugISD5M"
      },
      "execution_count": null,
      "outputs": []
    },
    {
      "cell_type": "code",
      "source": [
        "import gradio as gr\n",
        "#gradio는 입출력에 대한 것을 웹으로 데모를 만들어줌--> 입출력이 있으니 함수가 있어야 함"
      ],
      "metadata": {
        "id": "buyjOWYWS41q"
      },
      "execution_count": 5,
      "outputs": []
    },
    {
      "cell_type": "code",
      "source": [
        "iface = gr.Interface(sum, inputs = [\"number\", \"number\"], outputs = [\"text\"])\n",
        "iface.launch()\n",
        "#gr. Interface(함수명, 입력, 출력)\n",
        "#list로 표시\n",
        "#입력의 갯수와 type이 맞아야 함\n",
        "#input type--> textbox, number, slider..\n",
        "#output type--> number이 없음\n"
      ],
      "metadata": {
        "id": "vNlrBEbSS7ge",
        "colab": {
          "base_uri": "https://localhost:8080/",
          "height": 667
        },
        "outputId": "bc4c5821-37c8-4d16-c7e3-22a3461ef1c1"
      },
      "execution_count": 8,
      "outputs": [
        {
          "output_type": "stream",
          "name": "stdout",
          "text": [
            "Colab notebook detected. To show errors in colab notebook, set `debug=True` in `launch()`\n",
            "Running on public URL: https://39288.gradio.app\n",
            "\n",
            "This share link expires in 72 hours. For free permanent hosting, check out Spaces (https://huggingface.co/spaces)\n"
          ]
        },
        {
          "output_type": "display_data",
          "data": {
            "text/plain": [
              "<IPython.lib.display.IFrame at 0x7fb503c24dd0>"
            ],
            "text/html": [
              "\n",
              "        <iframe\n",
              "            width=\"900\"\n",
              "            height=\"500\"\n",
              "            src=\"https://39288.gradio.app\"\n",
              "            frameborder=\"0\"\n",
              "            allowfullscreen\n",
              "        ></iframe>\n",
              "        "
            ]
          },
          "metadata": {}
        },
        {
          "output_type": "execute_result",
          "data": {
            "text/plain": [
              "(<fastapi.applications.FastAPI at 0x7fb50b884a10>,\n",
              " 'http://127.0.0.1:7862/',\n",
              " 'https://39288.gradio.app')"
            ]
          },
          "metadata": {},
          "execution_count": 8
        }
      ]
    },
    {
      "cell_type": "code",
      "source": [
        "iface = gr.Interface(sum, [gr.inputs.Number(label='input1'), gr.inputs.Number(label='input2')], gr.outputs.Textbox(label='answer'))\n",
        "iface.launch()\n",
        "#더 예쁘게 하는 방법\n",
        "# input-->[gr.inputs.Number(label='input 1'), gr.inputs.Number(label='input2')]"
      ],
      "metadata": {
        "id": "9C_eEMRCWExA",
        "colab": {
          "base_uri": "https://localhost:8080/",
          "height": 667
        },
        "outputId": "a58944c9-c5b6-46b2-dde3-e6a416f6e278"
      },
      "execution_count": 7,
      "outputs": [
        {
          "output_type": "stream",
          "name": "stdout",
          "text": [
            "Colab notebook detected. To show errors in colab notebook, set `debug=True` in `launch()`\n",
            "Running on public URL: https://24890.gradio.app\n",
            "\n",
            "This share link expires in 72 hours. For free permanent hosting, check out Spaces (https://huggingface.co/spaces)\n"
          ]
        },
        {
          "output_type": "display_data",
          "data": {
            "text/plain": [
              "<IPython.lib.display.IFrame at 0x7fb5034f1a50>"
            ],
            "text/html": [
              "\n",
              "        <iframe\n",
              "            width=\"900\"\n",
              "            height=\"500\"\n",
              "            src=\"https://24890.gradio.app\"\n",
              "            frameborder=\"0\"\n",
              "            allowfullscreen\n",
              "        ></iframe>\n",
              "        "
            ]
          },
          "metadata": {}
        },
        {
          "output_type": "execute_result",
          "data": {
            "text/plain": [
              "(<fastapi.applications.FastAPI at 0x7fb50b884a10>,\n",
              " 'http://127.0.0.1:7861/',\n",
              " 'https://24890.gradio.app')"
            ]
          },
          "metadata": {},
          "execution_count": 7
        }
      ]
    }
  ]
}