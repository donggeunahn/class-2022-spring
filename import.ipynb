{
  "nbformat": 4,
  "nbformat_minor": 0,
  "metadata": {
    "colab": {
      "name": "import.ipynb",
      "provenance": [],
      "include_colab_link": true
    },
    "kernelspec": {
      "name": "python3",
      "display_name": "Python 3"
    },
    "language_info": {
      "name": "python"
    }
  },
  "cells": [
    {
      "cell_type": "markdown",
      "metadata": {
        "id": "view-in-github",
        "colab_type": "text"
      },
      "source": [
        "<a href=\"https://colab.research.google.com/github/donggeunahn/class-2022-spring/blob/main/import.ipynb\" target=\"_parent\"><img src=\"https://colab.research.google.com/assets/colab-badge.svg\" alt=\"Open In Colab\"/></a>"
      ]
    },
    {
      "cell_type": "code",
      "source": [
        "import numpy as np\n",
        "import matplotlib.pyplot as plt\n",
        "import IPython.display as ipd"
      ],
      "metadata": {
        "id": "jO3hyfS7xsNR"
      },
      "execution_count": null,
      "outputs": []
    },
    {
      "cell_type": "markdown",
      "source": [
        "numpy, matplotlib.pyplot, ipd를 import하여 np, plt,ipd로 명명한다"
      ],
      "metadata": {
        "id": "jtjTGTs2xxeR"
      }
    },
    {
      "cell_type": "code",
      "metadata": {
        "id": "JXicrkYOzPRo",
        "outputId": "6cf22905-a877-4663-8feb-e7e15bfe4d8b",
        "colab": {
          "base_uri": "https://localhost:8080/"
        }
      },
      "source": [
        "import numpy as np\n",
        "#numpy를 import하고 np라고 명명한다\n",
        "#numpy라는 패키지는 난수를 generate, 행렬을 만들거나 통계처리를 할때 사용된다.\n",
        "#AI와 데이터 사이언스의 가장 중요한 패키지\n",
        "n = np.random.randn(100)\n",
        "#100개의 random number를 만들고 n이라는 variable이라고 한다\n",
        "#numpy 안의 random이라는 디렉토리에서 randn이라는 함수\n",
        "#randn은 난수를 만들어주는 함수\n",
        "#평균이 0 s.d가 1인 난수를 구해줌\n"
      ],
      "execution_count": 7,
      "outputs": [
        {
          "output_type": "stream",
          "name": "stdout",
          "text": [
            "[-0.20551855  0.3736241  -1.33507314  0.60027008 -0.04638315  0.06734505\n",
            " -0.16743496  1.1775271   1.30963239  0.71663959 -1.40034773  1.00063102\n",
            "  0.32385335 -1.66097098 -0.0483219  -1.06505205  1.68052004  2.29827596\n",
            "  0.97240567 -0.778303    1.77583765 -0.94177712  1.16751424  0.71798258\n",
            "  0.54203907  0.69114614  0.05753408  0.0535099  -0.95567597  1.86559398\n",
            " -1.96719451 -0.1096199  -0.37657616  0.37261981  2.20116219  0.08318821\n",
            "  0.18801725  0.87336339 -1.96789227 -0.96248891 -1.55975269  0.02038619\n",
            "  0.24393738 -0.36582786  0.16978499 -1.41898814  0.95079006  2.27244377\n",
            " -0.11823501 -0.00866317  0.59524134 -0.42966397  0.6928134  -1.05661722\n",
            "  1.12001345  0.82162254 -1.11881256 -0.57466473  0.12150693 -0.78731638\n",
            "  0.0403992   1.09963168 -0.86572278 -1.54139991 -0.65797355 -0.05121519\n",
            " -0.21457916 -0.22297526 -2.17677882 -1.49602649 -0.28533508 -0.65445626\n",
            "  0.86655609  0.12115463 -0.07254332 -0.0589445   0.35442767 -0.04975172\n",
            " -2.1426747   0.35580162  0.16225492  1.44146308 -0.30364835 -0.48133207\n",
            " -0.78176025  2.01615141 -1.21854987  1.74064048 -0.29053135 -1.31786321\n",
            "  0.18727757  1.38217004  1.01084171  1.61493281 -0.66946178 -0.48605722\n",
            "  0.65027111 -1.33901625  1.811224   -0.65905732]\n"
          ]
        }
      ]
    },
    {
      "cell_type": "code",
      "metadata": {
        "id": "oKT4vn4MwyLA",
        "colab": {
          "base_uri": "https://localhost:8080/",
          "height": 350
        },
        "outputId": "2b0aeb6e-b426-450b-964c-4374a09dfeb0"
      },
      "source": [
        "import matplotlib\n",
        "#matplotlib를 import한다\n",
        "matplotlib.pyplot.hist(n)\n",
        "#matplotlib 안의 pyplot이라는 디렉토리에서 hist라는 함수에 n을 넣은 값\n",
        "#hist(n)은 n을 히스토그램으로 표현하라는 뜻\n",
        "#히스토그램은 x축에 숫자 y축에 횟수를 표현한 그래프"
      ],
      "execution_count": null,
      "outputs": [
        {
          "output_type": "execute_result",
          "data": {
            "text/plain": [
              "(array([ 3.,  4.,  9., 11., 26., 19., 16., 10.,  1.,  1.]),\n",
              " array([-2.51307585, -1.99199295, -1.47091005, -0.94982715, -0.42874425,\n",
              "         0.09233865,  0.61342155,  1.13450445,  1.65558734,  2.17667024,\n",
              "         2.69775314]),\n",
              " <a list of 10 Patch objects>)"
            ]
          },
          "metadata": {},
          "execution_count": 8
        },
        {
          "output_type": "display_data",
          "data": {
            "image/png": "[encoded data removed]",
            "text/plain": [
              "<Figure size 432x288 with 1 Axes>"
            ]
          },
          "metadata": {
            "needs_background": "light"
          }
        }
      ]
    },
    {
      "cell_type": "code",
      "metadata": {
        "colab": {
          "base_uri": "https://localhost:8080/",
          "height": 350
        },
        "id": "zQJ4LnbA-Hvz",
        "outputId": "bec7eeff-8cae-4c3d-f090-eaf78cdb5fa9"
      },
      "source": [
        "import matplotlib.pyplot\n",
        "#하위 디렉토리까지 import한 경우\n",
        "matplotlib.pyplot.hist(n)"
      ],
      "execution_count": null,
      "outputs": [
        {
          "output_type": "execute_result",
          "data": {
            "text/plain": [
              "(array([ 4.,  4.,  4.,  8., 19., 21., 16., 13.,  6.,  5.]),\n",
              " array([-2.54804234, -2.0585933 , -1.56914426, -1.07969522, -0.59024618,\n",
              "        -0.10079714,  0.3886519 ,  0.87810094,  1.36754998,  1.85699902,\n",
              "         2.34644806]),\n",
              " <a list of 10 Patch objects>)"
            ]
          },
          "metadata": {},
          "execution_count": 4
        },
        {
          "output_type": "display_data",
          "data": {
            "image/png": "[encoded data removed]",
            "text/plain": [
              "<Figure size 432x288 with 1 Axes>"
            ]
          },
          "metadata": {
            "needs_background": "light"
          }
        }
      ]
    },
    {
      "cell_type": "code",
      "metadata": {
        "id": "AWU6awi53c07",
        "outputId": "9b49fb47-6bac-4887-8815-e5ed130f6c56",
        "colab": {
          "base_uri": "https://localhost:8080/",
          "height": 350
        }
      },
      "source": [
        "import matplotlib.pyplot as plt\n",
        "#matplotlib.pyplot을 plt로 명명\n",
        "plt.hist(n)"
      ],
      "execution_count": null,
      "outputs": [
        {
          "output_type": "execute_result",
          "data": {
            "text/plain": [
              "(array([ 4.,  4.,  4.,  8., 19., 21., 16., 13.,  6.,  5.]),\n",
              " array([-2.54804234, -2.0585933 , -1.56914426, -1.07969522, -0.59024618,\n",
              "        -0.10079714,  0.3886519 ,  0.87810094,  1.36754998,  1.85699902,\n",
              "         2.34644806]),\n",
              " <a list of 10 Patch objects>)"
            ]
          },
          "metadata": {},
          "execution_count": 5
        },
        {
          "output_type": "display_data",
          "data": {
            "image/png": "[encoded data removed]",
            "text/plain": [
              "<Figure size 432x288 with 1 Axes>"
            ]
          },
          "metadata": {
            "needs_background": "light"
          }
        }
      ]
    },
    {
      "cell_type": "markdown",
      "source": [
        "## from import를 쓰면 import as처럼 축약해서 부를 수 있는 효과"
      ],
      "metadata": {
        "id": "v1zA2xRWzpdu"
      }
    },
    {
      "cell_type": "code",
      "metadata": {
        "colab": {
          "base_uri": "https://localhost:8080/",
          "height": 350
        },
        "id": "moIjn3Kv-Hqy",
        "outputId": "4b1e3880-1576-4b63-b4d0-192704221a8d"
      },
      "source": [
        "from matplotlib import pyplot\n",
        "#from 함수를 사용하고 하위디렉토리만 import\n",
        "pyplot.hist(n)\n",
        "#matplotlib를 안써도 된다는 장점"
      ],
      "execution_count": null,
      "outputs": [
        {
          "output_type": "execute_result",
          "data": {
            "text/plain": [
              "(array([ 3.,  4.,  9., 11., 26., 19., 16., 10.,  1.,  1.]),\n",
              " array([-2.51307585, -1.99199295, -1.47091005, -0.94982715, -0.42874425,\n",
              "         0.09233865,  0.61342155,  1.13450445,  1.65558734,  2.17667024,\n",
              "         2.69775314]),\n",
              " <a list of 10 Patch objects>)"
            ]
          },
          "metadata": {},
          "execution_count": 11
        },
        {
          "output_type": "display_data",
          "data": {
            "image/png": "[encoded data removed]",
            "text/plain": [
              "<Figure size 432x288 with 1 Axes>"
            ]
          },
          "metadata": {
            "needs_background": "light"
          }
        }
      ]
    },
    {
      "cell_type": "code",
      "metadata": {
        "colab": {
          "base_uri": "https://localhost:8080/",
          "height": 350
        },
        "id": "ORo259i7_Uqi",
        "outputId": "8faa9ebd-66ff-4f86-e588-f114023e649d"
      },
      "source": [
        "from matplotlib.pyplot import hist\n",
        "#함수만 import 한 경우\n",
        "hist(n)\n",
        "#hist 함수만 쓰면 되는 경우"
      ],
      "execution_count": null,
      "outputs": [
        {
          "output_type": "execute_result",
          "data": {
            "text/plain": [
              "(array([ 3.,  4.,  9., 11., 26., 19., 16., 10.,  1.,  1.]),\n",
              " array([-2.51307585, -1.99199295, -1.47091005, -0.94982715, -0.42874425,\n",
              "         0.09233865,  0.61342155,  1.13450445,  1.65558734,  2.17667024,\n",
              "         2.69775314]),\n",
              " <a list of 10 Patch objects>)"
            ]
          },
          "metadata": {},
          "execution_count": 14
        },
        {
          "output_type": "display_data",
          "data": {
            "image/png": "[encoded data removed]",
            "text/plain": [
              "<Figure size 432x288 with 1 Axes>"
            ]
          },
          "metadata": {
            "needs_background": "light"
          }
        }
      ]
    }
  ]
}