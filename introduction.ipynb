{
  "nbformat": 4,
  "nbformat_minor": 0,
  "metadata": {
    "colab": {
      "name": "introduction.ipynb",
      "provenance": [],
      "include_colab_link": true
    },
    "kernelspec": {
      "name": "python3",
      "display_name": "Python 3"
    }
  },
  "cells": [
    {
      "cell_type": "markdown",
      "metadata": {
        "id": "view-in-github",
        "colab_type": "text"
      },
      "source": [
        "<a href=\"https://colab.research.google.com/github/donggeunahn/class-2022-spring/blob/main/introduction.ipynb\" target=\"_parent\"><img src=\"https://colab.research.google.com/assets/colab-badge.svg\" alt=\"Open In Colab\"/></a>"
      ]
    },
    {
      "cell_type": "markdown",
      "metadata": {
        "id": "qg4XK6W39TPs"
      },
      "source": [
        "# 영어 음성학 응용 2022년도 1학기\n",
        "\n",
        "keywords: python, colab, github, data processing (text, sound, image)--> AI 모델 함수--> 함수는 입력을 출력으로 바꾸는 역할, huggingface, gradio\n",
        "\n",
        "함수 y=2x+1\n",
        "\n",
        "입력은 x 출력은 y\n",
        "\n",
        "AI도 함수다\n",
        "\n",
        "hugging face-->Ai model을 모아놓은 곳-->데모의 형태로 만들기 위해서는 웹프로그래밍을 해야함\n",
        "-->gradio가 데모를 만드는 것을  도와줌\n",
        "\n",
        "data랑 AI와의 관계\n",
        "AI는 함수 \n",
        "\n",
        "data가 input(text, sound, image)으로 들어가서 data(text, sound, image)가 output으로 나오는 것\n",
        "\n",
        "TTS text-->sound\n",
        "\n",
        "음성인식(stt)sound--> text\n",
        "\n",
        "text-->image\n",
        "\n",
        "image-->text\n",
        "\n",
        "gpt는 text를 generate하는 프로그램\n",
        "ex) 이루다 \n",
        "\n",
        "코딩의 공통점: 변수(variable), 문법, 함수, package\n",
        "\n",
        "1. a=1--> a라는 변수에 1이라는 내용을 담아라\n",
        "변수는 text를 담을 수도 있음\n",
        "\n",
        "2. 문법 if(조건문) for(반복문)\n",
        "\n",
        "3. 함수 입력과 출력\n",
        "\n",
        "4. package(=library)\n",
        "\n",
        "language \n",
        "word+meaning\n",
        "\n",
        "programming language\n",
        "ex)variable=3\n",
        "\n",
        "syntax-->if, for"
      ]
    },
    {
      "cell_type": "code",
      "source": [
        "package"
      ],
      "metadata": {
        "id": "NYnZbaavA98s"
      },
      "execution_count": null,
      "outputs": []
    },
    {
      "cell_type": "code",
      "execution_count": null,
      "metadata": {
        "id": "yUr2PYRXCHJT"
      },
      "outputs": [],
      "source": [
        "import numpy\n",
        "#수치와 관련 \n",
        "import pandas\n",
        "#엑셀\n",
        "import matplotlib\n",
        "#공학자들이 쓰는 프로그램-->visualize\n",
        "import seaborn\n",
        "#visualize\n",
        "import sklearn\n",
        "#regression\n",
        "import requests\n",
        "import urllib3\n",
        "#웹을 통해서 정보를 얻음-->crawling\n",
        "import nltk\n",
        "#natural language tool kit-->text처리하는 것\n",
        "import PIL\n",
        "#pilow-->이미지 파일을 처리, 불러오고, 조작\n",
        "import pytest\n",
        "import librosa\n",
        "#sound 관련된것"
      ]
    },
    {
      "cell_type": "code",
      "source": [
        ""
      ],
      "metadata": {
        "id": "ALOFQigbAMPU"
      },
      "execution_count": null,
      "outputs": []
    }
  ]
}