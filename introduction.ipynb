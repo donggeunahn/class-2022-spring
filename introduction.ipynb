{
  "nbformat": 4,
  "nbformat_minor": 0,
  "metadata": {
    "colab": {
      "name": "introduction.ipynb",
      "provenance": [],
      "include_colab_link": true
    },
    "kernelspec": {
      "name": "python3",
      "display_name": "Python 3"
    }
  },
  "cells": [
    {
      "cell_type": "markdown",
      "metadata": {
        "id": "view-in-github",
        "colab_type": "text"
      },
      "source": [
        "<a href=\"https://colab.research.google.com/github/donggeunahn/class-2022-spring/blob/main/introduction.ipynb\" target=\"_parent\"><img src=\"https://colab.research.google.com/assets/colab-badge.svg\" alt=\"Open In Colab\"/></a>"
      ]
    },
    {
      "cell_type": "markdown",
      "metadata": {
        "id": "qg4XK6W39TPs"
      },
      "source": [
        "# 영어 음성학 응용 2022년도 1학기\n",
        "\n",
        "keywords: python, colab, github, data processing (text, sound, image)--> AI 모델 함수--> 함수는 입력을 출력으로 바꾸는 역할, huggingface, gradio\n",
        "\n",
        "함수 y=2x+1\n",
        "\n",
        "입력은 x 출력은 y\n",
        "\n",
        "AI도 함수다\n",
        "\n",
        "hugging face-->Ai model을 모아놓은 곳-->데모의 형태로 만들기 위해서는 웹프로그래밍을 해야함\n",
        "-->gradio가 데모를 만드는 것을  도와줌\n",
        "\n",
        "data랑 AI와의 관계\n",
        "AI는 함수 \n",
        "\n",
        "data가 input(text, sound, image)으로 들어가서 data(text, sound, image)가 output으로 나오는 것\n",
        "\n",
        "TTS text-->sound\n",
        "\n",
        "음성인식(stt)sound--> text\n",
        "\n",
        "text-->image\n",
        "\n",
        "image-->text\n",
        "\n",
        "gpt는 text를 generate하는 프로그램\n",
        "ex) 이루다 \n",
        "\n",
        "코딩의 공통점: 변수(variable), 문법, 함수\n",
        "\n",
        "a=1--> a라는 변수에 1이라는 내용을 담아라\n",
        "변수는 text를 담을 수도 있음\n",
        "\n",
        "문법 if(조건문) for(반복문)\n",
        "\n",
        "함수\n",
        "\n"
      ]
    }
  ]
}