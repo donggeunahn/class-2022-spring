{
  "nbformat": 4,
  "nbformat_minor": 0,
  "metadata": {
    "kernelspec": {
      "display_name": "Python 3",
      "language": "python",
      "name": "python3"
    },
    "language_info": {
      "codemirror_mode": {
        "name": "ipython",
        "version": 3
      },
      "file_extension": ".py",
      "mimetype": "text/x-python",
      "name": "python",
      "nbconvert_exporter": "python",
      "pygments_lexer": "ipython3",
      "version": "3.7.1"
    },
    "colab": {
      "name": "variables.ipynb",
      "provenance": [],
      "include_colab_link": true
    }
  },
  "cells": [
    {
      "cell_type": "markdown",
      "metadata": {
        "id": "view-in-github",
        "colab_type": "text"
      },
      "source": [
        "<a href=\"https://colab.research.google.com/github/donggeunahn/class-2022-spring/blob/main/variables.ipynb\" target=\"_parent\"><img src=\"https://colab.research.google.com/assets/colab-badge.svg\" alt=\"Open In Colab\"/></a>"
      ]
    },
    {
      "cell_type": "markdown",
      "source": [
        "변수는 크게 2가지\n",
        "\n",
        "numbers, strings(text), list(tuple), dict\n",
        "\n",
        "**number**-->integer(정수), float(실수--> 소수점일때 사용)\n",
        "\n",
        "**string**을 넣는 방법-->''사용, \"\"사용\n",
        "\n",
        "**list** 여러개를 담을 때 사용-->[  ,   ,   ]\n",
        "\n",
        "tuple--> list와 비슷-->(,  ,  )\n",
        "-->tuple은 item을 assign해서 내부를 바꿀 수 없다--> 코딩할때 중요한 정보를 지울까봐-->indexing은 가능\n",
        "\n",
        "list의 아이템들을 부분적으로 사용할 때 indexing 필요\n",
        "-->str도 동일한 방법\n",
        "\n",
        "ex) a[0]-->a의 0번째 \n",
        "\n",
        "a[:]--> 전부다\n",
        "\n",
        "a[1:3]-->두번째부터 4번째(제외)\n",
        "\n",
        "a[x:y]-->x포함 y제외\n",
        "\n",
        "a[2][1]-->3번째 item의 2번째 \n",
        "\n",
        "제일 마지막 줄은 print 안해도됨\n",
        "\n",
        "**dict**--> dictionary의 준말\n",
        "key와 value로 이루어짐\n",
        "\n",
        "a의 0번째가 아니라 key로 indexing하기\n",
        "\n",
        "key는 변수는 안되고 숫자 or str\n",
        "-->큰 따옴표나 작은 따옴표 상관 X\n",
        "\n",
        "여러개를 할때는 semi colon사용"
      ],
      "metadata": {
        "id": "poYuB8IDBq-l"
      }
    },
    {
      "cell_type": "code",
      "metadata": {
        "id": "goAyoU7vRheI",
        "outputId": "068731d9-7186-453a-9a6b-b437acc64bc5",
        "colab": {
          "base_uri": "https://localhost:8080/"
        }
      },
      "source": [
        "a = 1; print(type(a))"
      ],
      "execution_count": null,
      "outputs": [
        {
          "output_type": "stream",
          "name": "stdout",
          "text": [
            "<class 'int'>\n"
          ]
        }
      ]
    },
    {
      "cell_type": "markdown",
      "source": [
        "a에 1이 들어감\n",
        "\n",
        "소숫점 없는거 interger\n",
        "\n"
      ],
      "metadata": {
        "id": "GMjimKBxByzh"
      }
    },
    {
      "cell_type": "code",
      "metadata": {
        "id": "txxnoqJuRheJ",
        "outputId": "fac1233b-b1e0-41b4-ea3c-94ad0c7104ec",
        "colab": {
          "base_uri": "https://localhost:8080/"
        }
      },
      "source": [
        "a = 1.1; print(type(a))"
      ],
      "execution_count": null,
      "outputs": [
        {
          "output_type": "stream",
          "name": "stdout",
          "text": [
            "<class 'float'>\n"
          ]
        }
      ]
    },
    {
      "cell_type": "code",
      "metadata": {
        "id": "SyP0PB86RheL",
        "outputId": "e10d274f-e7fd-4cdd-a822-847fb83560ec"
      },
      "source": [
        "a = '123'; print(type(a)); print(a[1])\n",
        "#''있으면 숫자라 할지라도 str이 됨"
      ],
      "execution_count": null,
      "outputs": [
        {
          "output_type": "stream",
          "text": [
            "<class 'str'>\n",
            "2\n"
          ],
          "name": "stdout"
        }
      ]
    },
    {
      "cell_type": "code",
      "metadata": {
        "id": "EKYj0dvIHPo0",
        "outputId": "a1237ded-1b0a-4ec6-e393-09846b2194a5",
        "colab": {
          "base_uri": "https://localhost:8080/"
        }
      },
      "source": [
        "a = 'hello'; print(type(a)); print(a[1])\n",
        "#type a는 str"
      ],
      "execution_count": null,
      "outputs": [
        {
          "output_type": "stream",
          "name": "stdout",
          "text": [
            "<class 'str'>\n",
            "e\n"
          ]
        }
      ]
    },
    {
      "cell_type": "code",
      "source": [
        "a=[1,2,3,4,5,6,7,8,9,10] print(type(a)) print(a[0])"
      ],
      "metadata": {
        "id": "5QaBx9KBFFLt"
      },
      "execution_count": null,
      "outputs": []
    },
    {
      "cell_type": "code",
      "source": [
        "a[:]-->전부다\n",
        "a[1:5]-->2번째 포함 6번째 배제\n",
        "a[:5] -->처음부터 \n",
        "a[1:-1]-->두번째부터 끝에서 하나뺀거까지"
      ],
      "metadata": {
        "id": "9S9-vu4KFaTP"
      },
      "execution_count": null,
      "outputs": []
    },
    {
      "cell_type": "code",
      "metadata": {
        "id": "Df6PhU-tHXr2",
        "outputId": "3e99729c-3214-4756-e692-1522f494a01e",
        "colab": {
          "base_uri": "https://localhost:8080/"
        }
      },
      "source": [
        "a = [1, 2, 3, 4]; print(type(a)); print(a[0])\n",
        "# "
      ],
      "execution_count": null,
      "outputs": [
        {
          "output_type": "stream",
          "name": "stdout",
          "text": [
            "<class 'list'>\n",
            "1\n"
          ]
        }
      ]
    },
    {
      "cell_type": "code",
      "metadata": {
        "id": "DfS-gknCRheL",
        "outputId": "ff76fc0a-73db-43fc-bb86-946381a6cb4d",
        "colab": {
          "base_uri": "https://localhost:8080/"
        }
      },
      "source": [
        "a = [1,'a', [3, '4']]; print(type(a)); print(a[0]); print(a[1]); print(a[2]); print(a[2][1])\n",
        "# list 안에 숫자, string, list가 들어있음\n",
        "#a[2][1]--> list a의 3번째의 2번째\n",
        "#a[1][1]-->2번째의 1번째-->이 경우 error\n"
      ],
      "execution_count": null,
      "outputs": [
        {
          "output_type": "stream",
          "name": "stdout",
          "text": [
            "<class 'list'>\n",
            "1\n",
            "a\n",
            "[3, '4']\n",
            "4\n"
          ]
        }
      ]
    },
    {
      "cell_type": "code",
      "source": [
        "a='abcdef123'\n",
        "type(a)\n",
        "#str\n",
        "#str일때도 a[]방법으로 가능\n",
        "#a[3:-1]-->def12"
      ],
      "metadata": {
        "id": "GlnVFW3FgrX-",
        "outputId": "bde77678-ca4a-44a5-ba00-69d41992f0da",
        "colab": {
          "base_uri": "https://localhost:8080/"
        }
      },
      "execution_count": 1,
      "outputs": [
        {
          "output_type": "execute_result",
          "data": {
            "text/plain": [
              "str"
            ]
          },
          "metadata": {},
          "execution_count": 1
        }
      ]
    },
    {
      "cell_type": "code",
      "metadata": {
        "id": "2sivfloGRheM",
        "outputId": "5c768bb7-e02b-4c87-a76e-3e992cdb244e"
      },
      "source": [
        "a =\t{\"a\": \"apple\", \"b\": \"orange\", \"c\": 2014}\n",
        "print(type(a))\n",
        "print(a[\"a\"])\n",
        "#dict는 key인 \"a\"로 indexing함\n",
        "#single quote으로 바꿔도 됨"
      ],
      "execution_count": null,
      "outputs": [
        {
          "output_type": "stream",
          "text": [
            "<class 'dict'>\n",
            "apple\n"
          ],
          "name": "stdout"
        }
      ]
    }
  ]
}